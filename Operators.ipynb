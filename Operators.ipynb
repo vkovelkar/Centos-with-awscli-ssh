{
  "nbformat": 4,
  "nbformat_minor": 0,
  "metadata": {
    "kernelspec": {
      "display_name": "Python 3",
      "language": "python",
      "name": "python3"
    },
    "language_info": {
      "codemirror_mode": {
        "name": "ipython",
        "version": 3
      },
      "file_extension": ".py",
      "mimetype": "text/x-python",
      "name": "python",
      "nbconvert_exporter": "python",
      "pygments_lexer": "ipython3",
      "version": "3.9.5"
    },
    "colab": {
      "name": "Operators.ipynb",
      "provenance": [],
      "include_colab_link": true
    }
  },
  "cells": [
    {
      "cell_type": "markdown",
      "metadata": {
        "id": "view-in-github",
        "colab_type": "text"
      },
      "source": [
        "<a href=\"https://colab.research.google.com/github/vkovelkar/Centos-with-awscli-ssh/blob/main/Operators.ipynb\" target=\"_parent\"><img src=\"https://colab.research.google.com/assets/colab-badge.svg\" alt=\"Open In Colab\"/></a>"
      ]
    },
    {
      "cell_type": "code",
      "metadata": {
        "id": "_9PZ3b8u6HbG",
        "outputId": "b90b2bb1-036d-4d8d-80e4-90cad0ac3e87"
      },
      "source": [
        "# Arithmetic operators in python - performs arithmetic operations\n",
        "# +, -, *, /, //, %, **\n",
        "\n",
        "x = 10\n",
        "y = 3\n",
        "\n",
        "print('Addition operation', x + y)\n",
        "print('Subtraction operation', x - y)\n",
        "print('Multiplication operation', x * y)\n",
        "print('Division operation', x / y)\n",
        "# %d for integer, %f for float, %s for string\n",
        "# %5d, %.4f, %3.2f\n",
        "print('Division operation rounded to 5 digits: %.5f'% (x/y))\n",
        "print('Integer division or float truncate operation', x // y)\n",
        "print('Exponentiation operator', x ** y)\n",
        "print('Remainder or modulus operator', x % y)"
      ],
      "execution_count": null,
      "outputs": [
        {
          "output_type": "stream",
          "text": [
            "Addition operation 13\n",
            "Subtraction operation 7\n",
            "Multiplication operation 30\n",
            "Division operation 3.3333333333333335\n",
            "Division operation rounded to 5 digits: 3.33333\n",
            "Integer division or float truncate operation 3\n",
            "Exponentiation operator 1000\n",
            "Remainder or modulus operator 1\n"
          ],
          "name": "stdout"
        }
      ]
    },
    {
      "cell_type": "code",
      "metadata": {
        "id": "WDS7rjgT6HbL",
        "outputId": "ec690848-185b-4950-d7d6-f0b18732ae1b"
      },
      "source": [
        "# Special arithmetic operators\n",
        "# +, * \n",
        "\n",
        "x = 'hello'\n",
        "y = 'world'\n",
        "print('Merging two strings', x + y)\n",
        "\n",
        "x = 'hi'\n",
        "print('Repetition operator', x * 3)\n",
        "print('Repetition operator', 3 * x)\n",
        "print('symbol repetition', '*' * 10)"
      ],
      "execution_count": null,
      "outputs": [
        {
          "output_type": "stream",
          "text": [
            "Merging two strings helloworld\n",
            "Repetition operator hihihi\n",
            "Repetition operator hihihi\n",
            "symbol repetition **********\n"
          ],
          "name": "stdout"
        }
      ]
    },
    {
      "cell_type": "code",
      "metadata": {
        "id": "eIq-9kMk6HbM",
        "outputId": "46e2cbb2-a4a0-48f5-b11c-fc1997777714"
      },
      "source": [
        "# Assignment operators - Assigns a value to variable\n",
        "\n",
        "x = 10 # = operator assigns value 10 to x\n",
        "print(x)\n",
        "\n",
        "\n",
        "# python does not have shortcut operators like prefix and postfix in c where they increment with one value\n",
        "# but it has some shortcut operators\n",
        "x = x + 1 # can be written as x+= 1 \n",
        "x = x* 1 # x*=1\n",
        "\n",
        "print(x)\n",
        "x = 10\n",
        "x += 1 \n",
        "print(x)\n",
        "\n",
        "x = 10\n",
        "x -= 1 # equivalent to x = x - 1\n",
        "print(x)\n",
        "x *= 5 # equivalent to x = x* 5\n",
        "print(x)\n",
        "x /= 5 # equivalent to x = x / 5\n",
        "print(x)"
      ],
      "execution_count": null,
      "outputs": [
        {
          "output_type": "stream",
          "text": [
            "10\n",
            "11\n",
            "11\n",
            "9\n",
            "45\n",
            "9.0\n"
          ],
          "name": "stdout"
        }
      ]
    },
    {
      "cell_type": "code",
      "metadata": {
        "id": "gQLveU4W6HbN",
        "outputId": "880ea579-587f-4ad4-8b35-7febf60518ac"
      },
      "source": [
        "# comparision operators - compares two values and generates true or false value\n",
        "# >, <, >=, <=, ==, !=\n",
        "\n",
        "x = 10\n",
        "y = 20\n",
        "print(x > y)\n",
        "print(x < y)\n",
        "print(x >= y) # x > y or x == y\n",
        "print(x <= y) # x < y or x == y \n",
        "print(x == y)\n",
        "print(x != y)"
      ],
      "execution_count": null,
      "outputs": [
        {
          "output_type": "stream",
          "text": [
            "False\n",
            "True\n",
            "False\n",
            "True\n",
            "False\n",
            "True\n"
          ],
          "name": "stdout"
        }
      ]
    },
    {
      "cell_type": "code",
      "metadata": {
        "id": "C5_w9fFU6HbO",
        "outputId": "444bc959-e7d8-4e47-b8ff-fd7ae1d893b9"
      },
      "source": [
        "# Logical operators - helps to combine multiple conditions and yields true or false value\n",
        "# and, or, not\n",
        "# &&, ||, !\n",
        "\n",
        "x = 100\n",
        "y = 20\n",
        "print(x > y and x > 5)\n",
        "print(x > y and x > 1000)\n",
        "\n",
        "print(x > y or x > 5)\n",
        "print(x > y or x > 1000)\n",
        "\n",
        "print(x > 1000)\n",
        "print(not x > 1000)"
      ],
      "execution_count": null,
      "outputs": [
        {
          "output_type": "stream",
          "text": [
            "True\n",
            "False\n",
            "True\n",
            "True\n",
            "False\n",
            "True\n"
          ],
          "name": "stdout"
        }
      ]
    },
    {
      "cell_type": "code",
      "metadata": {
        "id": "tqUXjUaO6HbP",
        "outputId": "c58f759c-d4c5-4db8-985a-1bf106d1e419"
      },
      "source": [
        "# bitwise operators - performs operation at bit level \n",
        "# &, |, <<, >>, ~, ^\n",
        "\n",
        "x = 2 # binary value is 10\n",
        "#print(bin(x))\n",
        "y = 3 # binary value is 11\n",
        "\n",
        "01\n",
        "\n",
        "print(x & y) # will do logical add operation\n",
        "print(x | y) # will do logical or operation\n",
        "print(x << 1) # will do left shift 1 bit # 100 \n",
        "print(x >> 1) # will do right shift 1 bit # 001\n",
        "\n",
        "x = 11\n",
        "print(x >> 1)"
      ],
      "execution_count": null,
      "outputs": [
        {
          "output_type": "stream",
          "text": [
            "0b10\n",
            "2\n",
            "3\n",
            "4\n",
            "1\n",
            "5\n"
          ],
          "name": "stdout"
        }
      ]
    },
    {
      "cell_type": "code",
      "metadata": {
        "id": "0zvaatYJ6HbP",
        "outputId": "4c4e34dc-b22b-4809-c987-6a5d3942be40"
      },
      "source": [
        "# membership operators - checks whether an elements is part of a data structure \n",
        "# in, not in\n",
        "\n",
        "string = 'hello world'\n",
        "print('d' in string)\n",
        "\n",
        "list_var = [1,2,3]\n",
        "print(1 in list_var)\n",
        "\n",
        "tuple_var = (1,2,'hello')\n",
        "print('hello' in tuple_var)\n",
        "\n",
        "print('dictionary checking')\n",
        "dict_var = {'name': 'hari', 'age': 36}\n",
        "print('age' in dict_var)\n",
        "print('hari' in dict_var)\n",
        "\n",
        "print('hari' in dict_var)\n",
        "# not in is a negation of in operator\n",
        "print('year' in dict_var)\n",
        "print('year' not in dict_var)"
      ],
      "execution_count": null,
      "outputs": [
        {
          "output_type": "stream",
          "text": [
            "True\n",
            "True\n",
            "True\n",
            "dictionary checking\n",
            "True\n",
            "False\n",
            "False\n",
            "False\n",
            "True\n"
          ],
          "name": "stdout"
        }
      ]
    },
    {
      "cell_type": "code",
      "metadata": {
        "id": "R0l6pZ4Y6HbQ",
        "outputId": "3c46e758-6c42-450f-ceac-067082e29760"
      },
      "source": [
        "# Identity operators - Verifies if two object reference ids are equal\n",
        "# is, is not\n",
        "\n",
        "x = 10\n",
        "y = x\n",
        "\n",
        "print(id(x), id(y))\n",
        "print(x is y) # id(x) == id(y)\n",
        "print(id(x) == id(y))\n",
        "\n",
        "x = 10\n",
        "y = 20\n",
        "print(id(x), id(y))\n",
        "print(x is y)\n",
        "print(x is not y)\n",
        "\n",
        "x = 10\n",
        "y = 10\n",
        "print(x is y)\n",
        "print(id(x), id(y))"
      ],
      "execution_count": null,
      "outputs": [
        {
          "output_type": "stream",
          "text": [
            "4395808160 4395808160\n",
            "True\n",
            "True\n",
            "4395808160 4395808480\n",
            "False\n",
            "True\n",
            "True\n",
            "4395808160 4395808160\n"
          ],
          "name": "stdout"
        }
      ]
    },
    {
      "cell_type": "code",
      "metadata": {
        "id": "GNVU6EUn6HbR",
        "outputId": "f66f7b6d-8bae-4aa6-cd16-1c0e58675af4"
      },
      "source": [
        "x = 'hi'\n",
        "y = 'hi'\n",
        "print(x, y)"
      ],
      "execution_count": null,
      "outputs": [
        {
          "output_type": "stream",
          "text": [
            "hi hi\n"
          ],
          "name": "stdout"
        }
      ]
    },
    {
      "cell_type": "code",
      "metadata": {
        "id": "zylhBGMn6HbS",
        "outputId": "73d3106e-7243-4a63-8099-985c8577b11a"
      },
      "source": [
        "x = {10, 20, 30}\n",
        "print(x)\n",
        "print(x.pop())\n",
        "print(x)"
      ],
      "execution_count": null,
      "outputs": [
        {
          "output_type": "stream",
          "text": [
            "{10, 20, 30}\n",
            "10\n",
            "{20, 30}\n"
          ],
          "name": "stdout"
        }
      ]
    },
    {
      "cell_type": "code",
      "metadata": {
        "id": "D1xSE6gE6HbS",
        "outputId": "16195ea3-ebc5-4000-9d1d-4c7d2951596c"
      },
      "source": [
        "x = {'name': 'hello', 1: 2}\n",
        "y = list(x)\n",
        "print(y)"
      ],
      "execution_count": null,
      "outputs": [
        {
          "output_type": "stream",
          "text": [
            "['name', 1]\n"
          ],
          "name": "stdout"
        }
      ]
    },
    {
      "cell_type": "code",
      "metadata": {
        "id": "vvRFIU2s6HbT",
        "outputId": "31dbe643-6496-4c59-d741-4098043c5023"
      },
      "source": [
        "x = [1,2,3,4,1,1,1,1]\n",
        "print(len(x))\n",
        "y = set(x)\n",
        "print(y)\n",
        "print(len(y))"
      ],
      "execution_count": null,
      "outputs": [
        {
          "output_type": "stream",
          "text": [
            "8\n",
            "{1, 2, 3, 4}\n",
            "4\n"
          ],
          "name": "stdout"
        }
      ]
    },
    {
      "cell_type": "code",
      "metadata": {
        "id": "vHfP4mdO6HbT",
        "outputId": "83d05723-f8f0-40e4-c929-5de49cf7cb02"
      },
      "source": [
        "print('hello world', (1,2))"
      ],
      "execution_count": null,
      "outputs": [
        {
          "output_type": "stream",
          "text": [
            "hello world (1, 2)\n"
          ],
          "name": "stdout"
        }
      ]
    },
    {
      "cell_type": "code",
      "metadata": {
        "id": "emciwSUh6HbU"
      },
      "source": [
        "x = [1,2,3]\n",
        "y = 1,2,3 # (1,2,3)\n",
        "z = {1: 2, 3: 4}\n",
        "a = {1, 2}"
      ],
      "execution_count": null,
      "outputs": []
    }
  ]
}