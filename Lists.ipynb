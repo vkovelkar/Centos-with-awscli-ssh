{
  "nbformat": 4,
  "nbformat_minor": 0,
  "metadata": {
    "colab": {
      "name": "Lists.ipynb",
      "provenance": [],
      "authorship_tag": "ABX9TyODXiXPHTPjif84esaPmUEf",
      "include_colab_link": true
    },
    "kernelspec": {
      "name": "python3",
      "display_name": "Python 3"
    },
    "language_info": {
      "name": "python"
    }
  },
  "cells": [
    {
      "cell_type": "markdown",
      "metadata": {
        "id": "view-in-github",
        "colab_type": "text"
      },
      "source": [
        "<a href=\"https://colab.research.google.com/github/vkovelkar/Centos-with-awscli-ssh/blob/main/Lists.ipynb\" target=\"_parent\"><img src=\"https://colab.research.google.com/assets/colab-badge.svg\" alt=\"Open In Colab\"/></a>"
      ]
    },
    {
      "cell_type": "code",
      "metadata": {
        "colab": {
          "base_uri": "https://localhost:8080/"
        },
        "id": "iniJ8wzGgJ83",
        "outputId": "cdf3dd38-ecdd-48a2-d7cd-4784fb2cfdb3"
      },
      "source": [
        "x = [2,3,4,55,'hello',3883,2+2j]\n",
        "print(x)\n"
      ],
      "execution_count": 13,
      "outputs": [
        {
          "output_type": "stream",
          "text": [
            "[2, 3, 4, 55, 'hello', 3883, (2+2j)]\n"
          ],
          "name": "stdout"
        }
      ]
    },
    {
      "cell_type": "code",
      "metadata": {
        "id": "ji_XtmPThHxA"
      },
      "source": [
        "x[4] = 'world'"
      ],
      "execution_count": 15,
      "outputs": []
    },
    {
      "cell_type": "code",
      "metadata": {
        "colab": {
          "base_uri": "https://localhost:8080/",
          "height": 35
        },
        "id": "gTCvYl4MhS0S",
        "outputId": "1b01f380-3a1a-4832-a77d-08de6b53e2bd"
      },
      "source": [
        "x[4]"
      ],
      "execution_count": 5,
      "outputs": [
        {
          "output_type": "execute_result",
          "data": {
            "application/vnd.google.colaboratory.intrinsic+json": {
              "type": "string"
            },
            "text/plain": [
              "'world'"
            ]
          },
          "metadata": {
            "tags": []
          },
          "execution_count": 5
        }
      ]
    },
    {
      "cell_type": "code",
      "metadata": {
        "id": "H0u9BU3jhf7P"
      },
      "source": [
        "x.append(74569)\n",
        "x.append(-234568)"
      ],
      "execution_count": 16,
      "outputs": []
    },
    {
      "cell_type": "code",
      "metadata": {
        "colab": {
          "base_uri": "https://localhost:8080/"
        },
        "id": "Jy9QI2BvhnAp",
        "outputId": "e58ad30a-de64-490b-b78a-2e9632262b99"
      },
      "source": [
        "print(x[::])\n",
        "print(x[::-1])"
      ],
      "execution_count": 18,
      "outputs": [
        {
          "output_type": "stream",
          "text": [
            "[2, 3, 4, 55, 'world', 3883, (2+2j), 74569, -234568]\n",
            "[-234568, 74569, (2+2j), 3883, 'world', 55, 4, 3, 2]\n"
          ],
          "name": "stdout"
        }
      ]
    },
    {
      "cell_type": "code",
      "metadata": {
        "colab": {
          "base_uri": "https://localhost:8080/"
        },
        "id": "EwotrTdrhlPO",
        "outputId": "31fcfe83-e4cb-4201-be50-2977b113e9d3"
      },
      "source": [
        "dir(list)"
      ],
      "execution_count": 21,
      "outputs": [
        {
          "output_type": "execute_result",
          "data": {
            "text/plain": [
              "['__add__',\n",
              " '__class__',\n",
              " '__contains__',\n",
              " '__delattr__',\n",
              " '__delitem__',\n",
              " '__dir__',\n",
              " '__doc__',\n",
              " '__eq__',\n",
              " '__format__',\n",
              " '__ge__',\n",
              " '__getattribute__',\n",
              " '__getitem__',\n",
              " '__gt__',\n",
              " '__hash__',\n",
              " '__iadd__',\n",
              " '__imul__',\n",
              " '__init__',\n",
              " '__init_subclass__',\n",
              " '__iter__',\n",
              " '__le__',\n",
              " '__len__',\n",
              " '__lt__',\n",
              " '__mul__',\n",
              " '__ne__',\n",
              " '__new__',\n",
              " '__reduce__',\n",
              " '__reduce_ex__',\n",
              " '__repr__',\n",
              " '__reversed__',\n",
              " '__rmul__',\n",
              " '__setattr__',\n",
              " '__setitem__',\n",
              " '__sizeof__',\n",
              " '__str__',\n",
              " '__subclasshook__',\n",
              " 'append',\n",
              " 'clear',\n",
              " 'copy',\n",
              " 'count',\n",
              " 'extend',\n",
              " 'index',\n",
              " 'insert',\n",
              " 'pop',\n",
              " 'remove',\n",
              " 'reverse',\n",
              " 'sort']"
            ]
          },
          "metadata": {
            "tags": []
          },
          "execution_count": 21
        }
      ]
    },
    {
      "cell_type": "code",
      "metadata": {
        "colab": {
          "base_uri": "https://localhost:8080/"
        },
        "id": "tuN-pjqLjzBv",
        "outputId": "80bef2a6-adaa-4748-d5fb-3b682acb894f"
      },
      "source": [
        "fruits = ['orange', 'apple', 'pear', 'banana', 'kiwi', 'apple', 'banana']\n",
        "fruits.count('banana')"
      ],
      "execution_count": 29,
      "outputs": [
        {
          "output_type": "execute_result",
          "data": {
            "text/plain": [
              "2"
            ]
          },
          "metadata": {
            "tags": []
          },
          "execution_count": 29
        }
      ]
    },
    {
      "cell_type": "code",
      "metadata": {
        "colab": {
          "base_uri": "https://localhost:8080/",
          "height": 35
        },
        "id": "lHXi4J6OlhJn",
        "outputId": "64dbdd57-26b6-4466-d26a-7b6aa242fa28"
      },
      "source": [
        "fruits.reverse()\n",
        "fruits\n",
        "fruits.sort()\n",
        "fruits\n",
        "fruits.pop()"
      ],
      "execution_count": 34,
      "outputs": [
        {
          "output_type": "execute_result",
          "data": {
            "application/vnd.google.colaboratory.intrinsic+json": {
              "type": "string"
            },
            "text/plain": [
              "'pear'"
            ]
          },
          "metadata": {
            "tags": []
          },
          "execution_count": 34
        }
      ]
    },
    {
      "cell_type": "code",
      "metadata": {
        "colab": {
          "base_uri": "https://localhost:8080/"
        },
        "id": "Dg6Hfvacm4Lo",
        "outputId": "ce729d45-a30e-44b5-bc13-c9d83320c0c3"
      },
      "source": [
        "x"
      ],
      "execution_count": 35,
      "outputs": [
        {
          "output_type": "execute_result",
          "data": {
            "text/plain": [
              "[2, 3, 4, 55, 'world', 3883, (2+2j), 74569, -234568]"
            ]
          },
          "metadata": {
            "tags": []
          },
          "execution_count": 35
        }
      ]
    },
    {
      "cell_type": "code",
      "metadata": {
        "id": "P5ZIypOjnAUT"
      },
      "source": [
        "x.insert(4,'vijay added here')"
      ],
      "execution_count": 36,
      "outputs": []
    },
    {
      "cell_type": "code",
      "metadata": {
        "colab": {
          "base_uri": "https://localhost:8080/"
        },
        "id": "LS_xY7MFnLMh",
        "outputId": "cd56605f-b500-4cdf-99b4-0b6d040c7069"
      },
      "source": [
        "x"
      ],
      "execution_count": 37,
      "outputs": [
        {
          "output_type": "execute_result",
          "data": {
            "text/plain": [
              "[2, 3, 4, 55, 'vijay added here', 'world', 3883, (2+2j), 74569, -234568]"
            ]
          },
          "metadata": {
            "tags": []
          },
          "execution_count": 37
        }
      ]
    },
    {
      "cell_type": "code",
      "metadata": {
        "id": "y6ci1dAZnwP0"
      },
      "source": [
        "x.extend([23,34,35,36,37])"
      ],
      "execution_count": 38,
      "outputs": []
    },
    {
      "cell_type": "code",
      "metadata": {
        "colab": {
          "base_uri": "https://localhost:8080/"
        },
        "id": "QKqV07nNn5qf",
        "outputId": "572a469a-ef4d-4f8a-9ca0-a37fc1740e64"
      },
      "source": [
        "x"
      ],
      "execution_count": 39,
      "outputs": [
        {
          "output_type": "execute_result",
          "data": {
            "text/plain": [
              "[2,\n",
              " 3,\n",
              " 4,\n",
              " 55,\n",
              " 'vijay added here',\n",
              " 'world',\n",
              " 3883,\n",
              " (2+2j),\n",
              " 74569,\n",
              " -234568,\n",
              " 23,\n",
              " 34,\n",
              " 35,\n",
              " 36,\n",
              " 37]"
            ]
          },
          "metadata": {
            "tags": []
          },
          "execution_count": 39
        }
      ]
    },
    {
      "cell_type": "code",
      "metadata": {
        "colab": {
          "base_uri": "https://localhost:8080/"
        },
        "id": "sS36Usg9oZpT",
        "outputId": "b30a16e6-70f4-4e9c-ddba-97e34c7aa2fb"
      },
      "source": [
        "y = x.copy()\n",
        "print(y)"
      ],
      "execution_count": 50,
      "outputs": [
        {
          "output_type": "stream",
          "text": [
            "[2, 3, 'vijay added here', 'world', 3883, (2+2j), 74569, -234568, 23, 34, 35, 36, 37]\n"
          ],
          "name": "stdout"
        }
      ]
    },
    {
      "cell_type": "code",
      "metadata": {
        "colab": {
          "base_uri": "https://localhost:8080/"
        },
        "id": "DSXPIWaEp5Bd",
        "outputId": "8cdd2fab-0241-47d7-e5a1-e060e0461e84"
      },
      "source": [
        "print(y)"
      ],
      "execution_count": 51,
      "outputs": [
        {
          "output_type": "stream",
          "text": [
            "[2, 3, 'vijay added here', 'world', 3883, (2+2j), 74569, -234568, 23, 34, 35, 36, 37]\n"
          ],
          "name": "stdout"
        }
      ]
    },
    {
      "cell_type": "code",
      "metadata": {
        "colab": {
          "base_uri": "https://localhost:8080/"
        },
        "id": "KP_raQZAqufg",
        "outputId": "54f52c34-9cbd-41d4-c9c7-8c80d9e9ead3"
      },
      "source": [
        "#y.remove('vijay added here')\n",
        "y.remove(3)\n",
        "print(y)"
      ],
      "execution_count": 55,
      "outputs": [
        {
          "output_type": "stream",
          "text": [
            "[2, 'world', 3883, (2+2j), 74569, -234568, 23, 34, 35, 36, 37]\n"
          ],
          "name": "stdout"
        }
      ]
    },
    {
      "cell_type": "code",
      "metadata": {
        "colab": {
          "base_uri": "https://localhost:8080/"
        },
        "id": "r0O0MhewrZe6",
        "outputId": "196234bc-93f9-4de5-faa3-665a34d1a1ed"
      },
      "source": [
        "# Python3 program for pop() method\n",
        "\n",
        "list1 = [ 1, 2, 3, 4, 5, 6 ]\n",
        "\n",
        "# Pops and removes the last element from the list\n",
        "print(list1.pop())\n",
        "\n",
        "# Print list after removing last element\n",
        "print(\"New List after pop : \", list1, \"\\n\")\n",
        "\n",
        "list2 = [1, 2, 3, ('cat', 'bat'), 4]\n",
        "\n",
        "# Pop last three element\n",
        "print(list2.pop())\n",
        "print(list2.pop())\n",
        "print(list2.pop())\n",
        "\n",
        "# Print list\n",
        "print(\"New List after pop : \", list2, \"\\n\")\n"
      ],
      "execution_count": 57,
      "outputs": [
        {
          "output_type": "stream",
          "text": [
            "6\n",
            "New List after pop :  [1, 2, 3, 4, 5] \n",
            "\n",
            "4\n",
            "('cat', 'bat')\n",
            "3\n",
            "New List after pop :  [1, 2] \n",
            "\n"
          ],
          "name": "stdout"
        }
      ]
    },
    {
      "cell_type": "code",
      "metadata": {
        "colab": {
          "base_uri": "https://localhost:8080/"
        },
        "id": "936RvMhQpDZc",
        "outputId": "aa825a32-9a27-4e9f-f5a7-a1ff9fe150a0"
      },
      "source": [
        "y.clear()\n",
        "print(y)\n",
        "len(x)"
      ],
      "execution_count": 42,
      "outputs": [
        {
          "output_type": "stream",
          "text": [
            "[]\n"
          ],
          "name": "stdout"
        },
        {
          "output_type": "execute_result",
          "data": {
            "text/plain": [
              "15"
            ]
          },
          "metadata": {
            "tags": []
          },
          "execution_count": 42
        }
      ]
    }
  ]
}