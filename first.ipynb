{
  "nbformat": 4,
  "nbformat_minor": 0,
  "metadata": {
    "colab": {
      "name": "first.ipynb",
      "provenance": [],
      "collapsed_sections": [],
      "authorship_tag": "ABX9TyPgU1zCXTGUMleX0J7g6Isy",
      "include_colab_link": true
    },
    "kernelspec": {
      "name": "python3",
      "display_name": "Python 3"
    },
    "language_info": {
      "name": "python"
    }
  },
  "cells": [
    {
      "cell_type": "markdown",
      "metadata": {
        "id": "view-in-github",
        "colab_type": "text"
      },
      "source": [
        "<a href=\"https://colab.research.google.com/github/vkovelkar/Centos-with-awscli-ssh/blob/main/first.ipynb\" target=\"_parent\"><img src=\"https://colab.research.google.com/assets/colab-badge.svg\" alt=\"Open In Colab\"/></a>"
      ]
    },
    {
      "cell_type": "code",
      "metadata": {
        "colab": {
          "base_uri": "https://localhost:8080/"
        },
        "id": "vCRstBOXnBA8",
        "outputId": "0d5704fb-5486-4472-a23d-abe8ec9cdc17"
      },
      "source": [
        "print(\"Hello\");"
      ],
      "execution_count": 56,
      "outputs": [
        {
          "output_type": "stream",
          "text": [
            "Hello\n"
          ],
          "name": "stdout"
        }
      ]
    },
    {
      "cell_type": "code",
      "metadata": {
        "colab": {
          "base_uri": "https://localhost:8080/"
        },
        "id": "PdTDCoDQu_kt",
        "outputId": "fd142329-2e52-4918-e0ab-9f2283aafed8"
      },
      "source": [
        "def main():\n",
        "  print('hello world')\n",
        "main();"
      ],
      "execution_count": 57,
      "outputs": [
        {
          "output_type": "stream",
          "text": [
            "hello world\n"
          ],
          "name": "stdout"
        }
      ]
    },
    {
      "cell_type": "code",
      "metadata": {
        "colab": {
          "base_uri": "https://localhost:8080/"
        },
        "id": "bOfXruLs0eu8",
        "outputId": "c85cd9c1-c8eb-4b4a-8a41-3846892ecb75"
      },
      "source": [
        "b=2.333\n",
        "print(type(b))\n"
      ],
      "execution_count": 58,
      "outputs": [
        {
          "output_type": "stream",
          "text": [
            "<class 'float'>\n"
          ],
          "name": "stdout"
        }
      ]
    },
    {
      "cell_type": "code",
      "metadata": {
        "colab": {
          "base_uri": "https://localhost:8080/"
        },
        "id": "7iY7_ItfB__T",
        "outputId": "a0e328cf-46d8-4f9a-8c01-675f0c8d6e8f"
      },
      "source": [
        "type(b)\n"
      ],
      "execution_count": 59,
      "outputs": [
        {
          "output_type": "execute_result",
          "data": {
            "text/plain": [
              "float"
            ]
          },
          "metadata": {
            "tags": []
          },
          "execution_count": 59
        }
      ]
    },
    {
      "cell_type": "code",
      "metadata": {
        "id": "FzBwYWSiCq8q"
      },
      "source": [
        "c = 9 + 2j"
      ],
      "execution_count": 60,
      "outputs": []
    },
    {
      "cell_type": "code",
      "metadata": {
        "colab": {
          "base_uri": "https://localhost:8080/"
        },
        "id": "sJ6HtyhQCuVB",
        "outputId": "0ddcb58e-812e-408f-bce3-113e7b0b821b"
      },
      "source": [
        "print(c)"
      ],
      "execution_count": 61,
      "outputs": [
        {
          "output_type": "stream",
          "text": [
            "(9+2j)\n"
          ],
          "name": "stdout"
        }
      ]
    },
    {
      "cell_type": "code",
      "metadata": {
        "colab": {
          "base_uri": "https://localhost:8080/"
        },
        "id": "H40-z8shCzoV",
        "outputId": "a3b18d37-5a6e-4186-cf2c-e2a99733cd52"
      },
      "source": [
        "type(c)"
      ],
      "execution_count": 62,
      "outputs": [
        {
          "output_type": "execute_result",
          "data": {
            "text/plain": [
              "complex"
            ]
          },
          "metadata": {
            "tags": []
          },
          "execution_count": 62
        }
      ]
    },
    {
      "cell_type": "code",
      "metadata": {
        "colab": {
          "base_uri": "https://localhost:8080/"
        },
        "id": "EOlckiecDmcn",
        "outputId": "d2fa344c-d926-4fbc-830c-c8373d754c32"
      },
      "source": [
        "a = False\n",
        "type(a)"
      ],
      "execution_count": 64,
      "outputs": [
        {
          "output_type": "execute_result",
          "data": {
            "text/plain": [
              "bool"
            ]
          },
          "metadata": {
            "tags": []
          },
          "execution_count": 64
        }
      ]
    },
    {
      "cell_type": "code",
      "metadata": {
        "colab": {
          "base_uri": "https://localhost:8080/"
        },
        "id": "Q91ldNZDDtQc",
        "outputId": "1d94290a-3afb-45c6-9a8d-926dc6aba319"
      },
      "source": [
        "def main():\n",
        "    a = 10\n",
        "    b = 20\n",
        "    c = a + b \n",
        "    print(c+b)\n",
        "main()"
      ],
      "execution_count": 69,
      "outputs": [
        {
          "output_type": "stream",
          "text": [
            "50\n"
          ],
          "name": "stdout"
        }
      ]
    },
    {
      "cell_type": "code",
      "metadata": {
        "colab": {
          "base_uri": "https://localhost:8080/"
        },
        "id": "Ki79f0SdFOXG",
        "outputId": "e55b033f-9625-4178-c213-c78650e1cba7"
      },
      "source": [
        "def main():\n",
        "  a = 10\n",
        "  b = 20\n",
        "  c = a + b\n",
        "  print(c)\n",
        "main()"
      ],
      "execution_count": 72,
      "outputs": [
        {
          "output_type": "stream",
          "text": [
            "30\n"
          ],
          "name": "stdout"
        }
      ]
    },
    {
      "cell_type": "code",
      "metadata": {
        "colab": {
          "base_uri": "https://localhost:8080/"
        },
        "id": "ShjP6WU0Fl46",
        "outputId": "fc56e407-e42f-4301-b169-4a6273572836"
      },
      "source": [
        "def main():\n",
        "  a = 10\n",
        "  b = 20\n",
        "  c = a * b\n",
        "  print(c)\n",
        "main()"
      ],
      "execution_count": 73,
      "outputs": [
        {
          "output_type": "stream",
          "text": [
            "200\n"
          ],
          "name": "stdout"
        }
      ]
    },
    {
      "cell_type": "code",
      "metadata": {
        "colab": {
          "base_uri": "https://localhost:8080/"
        },
        "id": "MDfrm6mqF1mS",
        "outputId": "078eb678-fb4b-4b98-c377-d14d7c387bac"
      },
      "source": [
        "def main():\n",
        "  a = 10\n",
        "  b = 20;\n",
        "  c = (a + b)\n",
        "  print(c)\n",
        "main()"
      ],
      "execution_count": 74,
      "outputs": [
        {
          "output_type": "stream",
          "text": [
            "30\n"
          ],
          "name": "stdout"
        }
      ]
    },
    {
      "cell_type": "code",
      "metadata": {
        "colab": {
          "base_uri": "https://localhost:8080/"
        },
        "id": "r6MyrstlGHZ6",
        "outputId": "026ad942-2c74-46b5-9d4f-4572a3997e8a"
      },
      "source": [
        "def main():\n",
        "  a = 10\n",
        "  b = 20\n",
        "  c = (a - b)\n",
        "  print(c)\n",
        "main()"
      ],
      "execution_count": 75,
      "outputs": [
        {
          "output_type": "stream",
          "text": [
            "-10\n"
          ],
          "name": "stdout"
        }
      ]
    },
    {
      "cell_type": "markdown",
      "metadata": {
        "id": "IVpzU4iTGVgE"
      },
      "source": [
        "def main():\n",
        "  a = 10\n",
        "  b = 20\n",
        "  c = b / a ;\n",
        "  print(c)\n",
        "main()"
      ]
    },
    {
      "cell_type": "code",
      "metadata": {
        "colab": {
          "base_uri": "https://localhost:8080/"
        },
        "id": "uQOqzrpIGpqu",
        "outputId": "3831550b-5e7e-4403-f762-641cb9af2109"
      },
      "source": [
        "def main(): a = 10; b =20; c = b - a; print(c); \n",
        "main();"
      ],
      "execution_count": 86,
      "outputs": [
        {
          "output_type": "stream",
          "text": [
            "10\n"
          ],
          "name": "stdout"
        }
      ]
    },
    {
      "cell_type": "code",
      "metadata": {
        "colab": {
          "base_uri": "https://localhost:8080/"
        },
        "id": "mOxkV1hvIPBy",
        "outputId": "dce6ba1b-1ad1-4de4-c030-64e118c57bd4"
      },
      "source": [
        "c =input(\"enter number\")\n",
        "print(c)"
      ],
      "execution_count": 87,
      "outputs": [
        {
          "output_type": "stream",
          "text": [
            "enter number10\n",
            "10\n"
          ],
          "name": "stdout"
        }
      ]
    },
    {
      "cell_type": "code",
      "metadata": {
        "colab": {
          "base_uri": "https://localhost:8080/"
        },
        "id": "i4gDBoO2IfRq",
        "outputId": "6a8a5629-ba6c-414b-e425-ce4f3ef4539e"
      },
      "source": [
        "print(c)"
      ],
      "execution_count": 88,
      "outputs": [
        {
          "output_type": "stream",
          "text": [
            "10\n"
          ],
          "name": "stdout"
        }
      ]
    },
    {
      "cell_type": "code",
      "metadata": {
        "colab": {
          "base_uri": "https://localhost:8080/"
        },
        "id": "t4kL7QfIJLCZ",
        "outputId": "62876fff-9d2f-4170-c2c8-36a31cc3f7bb"
      },
      "source": [
        "type(c)"
      ],
      "execution_count": 89,
      "outputs": [
        {
          "output_type": "execute_result",
          "data": {
            "text/plain": [
              "str"
            ]
          },
          "metadata": {
            "tags": []
          },
          "execution_count": 89
        }
      ]
    },
    {
      "cell_type": "code",
      "metadata": {
        "colab": {
          "base_uri": "https://localhost:8080/"
        },
        "id": "iw6VW9xmJdaF",
        "outputId": "90b6a793-3daa-4471-9528-13c6a64aef0a"
      },
      "source": [
        "def main():\n",
        "  a = input(\"enter a value \")\n",
        "  b = input(\"enter b value \")\n",
        "  a = int(a)\n",
        "  b = int(b)\n",
        "  c = a + b\n",
        "  print(c)\n",
        "main()\n"
      ],
      "execution_count": 91,
      "outputs": [
        {
          "output_type": "stream",
          "text": [
            "enter a value2\n",
            "enter b value123\n",
            "125\n"
          ],
          "name": "stdout"
        }
      ]
    },
    {
      "cell_type": "code",
      "metadata": {
        "colab": {
          "base_uri": "https://localhost:8080/"
        },
        "id": "zQ3BXYLsQPZa",
        "outputId": "79adcea2-1614-427e-ff7f-5243203372ec"
      },
      "source": [
        "def main():\n",
        "  a = input(\"enter a value \")\n",
        "  b = input(\"enter b value \")\n",
        "  a = float(a)\n",
        "  b = float(b)\n",
        "  c = a + b\n",
        "  print(c)\n",
        "main()\n"
      ],
      "execution_count": 92,
      "outputs": [
        {
          "output_type": "stream",
          "text": [
            "enter a value 2.3\n",
            "enter b value 344\n",
            "346.3\n"
          ],
          "name": "stdout"
        }
      ]
    },
    {
      "cell_type": "code",
      "metadata": {
        "colab": {
          "base_uri": "https://localhost:8080/"
        },
        "id": "VaJCP-Z2Qeyh",
        "outputId": "43f1be74-363e-4541-c468-aea6c11cf149"
      },
      "source": [
        "def main():\n",
        "  a = input(\"enter a value \")\n",
        "  b = input(\"enter b value \")\n",
        "  a = eval(a)\n",
        "  b = eval(b)\n",
        "  c = a + b\n",
        "  print(c)\n",
        "main()\n"
      ],
      "execution_count": 100,
      "outputs": [
        {
          "output_type": "stream",
          "text": [
            "enter a value 89000+20j\n",
            "enter b value 999+80j\n",
            "(89999+100j)\n"
          ],
          "name": "stdout"
        }
      ]
    },
    {
      "cell_type": "code",
      "metadata": {
        "colab": {
          "base_uri": "https://localhost:8080/"
        },
        "id": "8vbJZE0_R0Y9",
        "outputId": "15e9967a-fd16-4eab-e17c-8e50428afdee"
      },
      "source": [
        "def main():\n",
        "  a = input(\"Eneter a value \")\n",
        "  b = input(\"enter b  value \")\n",
        "  a = eval(a)\n",
        "  b = eval(b)\n",
        "  c = a - b\n",
        "  print(c)\n",
        "main()"
      ],
      "execution_count": 104,
      "outputs": [
        {
          "output_type": "stream",
          "text": [
            "Eneter a value 30\n",
            "enter b  value 23\n",
            "7\n"
          ],
          "name": "stdout"
        }
      ]
    },
    {
      "cell_type": "code",
      "metadata": {
        "colab": {
          "base_uri": "https://localhost:8080/"
        },
        "id": "-m8dE5jgS8ED",
        "outputId": "463c454b-88dd-4fd1-8697-66a8db2bcbd5"
      },
      "source": [
        "def main():\n",
        " a = input(\"Enter a value \")\n",
        " b = input(\"Enter b value \")\n",
        " a = eval(a)\n",
        " b = eval(b)\n",
        " c = a * b\n",
        " print(c)\n",
        "main()"
      ],
      "execution_count": 110,
      "outputs": [
        {
          "output_type": "stream",
          "text": [
            "Enter a value 1.1\n",
            "Enter b value 1.2\n",
            "1.32\n"
          ],
          "name": "stdout"
        }
      ]
    },
    {
      "cell_type": "markdown",
      "metadata": {
        "id": "3-gLVZ6hUlkl"
      },
      "source": [
        "advacned data types list,tuple,dict,set"
      ]
    }
  ]
}