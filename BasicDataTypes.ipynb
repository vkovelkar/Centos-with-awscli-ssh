{
  "nbformat": 4,
  "nbformat_minor": 0,
  "metadata": {
    "kernelspec": {
      "display_name": "Python 3",
      "language": "python",
      "name": "python3"
    },
    "language_info": {
      "codemirror_mode": {
        "name": "ipython",
        "version": 3
      },
      "file_extension": ".py",
      "mimetype": "text/x-python",
      "name": "python",
      "nbconvert_exporter": "python",
      "pygments_lexer": "ipython3",
      "version": "3.9.5"
    },
    "colab": {
      "name": "BasicDataTypes.ipynb",
      "provenance": [],
      "include_colab_link": true
    }
  },
  "cells": [
    {
      "cell_type": "markdown",
      "metadata": {
        "id": "view-in-github",
        "colab_type": "text"
      },
      "source": [
        "<a href=\"https://colab.research.google.com/github/vkovelkar/Centos-with-awscli-ssh/blob/main/BasicDataTypes.ipynb\" target=\"_parent\"><img src=\"https://colab.research.google.com/assets/colab-badge.svg\" alt=\"Open In Colab\"/></a>"
      ]
    },
    {
      "cell_type": "code",
      "metadata": {
        "colab": {
          "base_uri": "https://localhost:8080/"
        },
        "id": "yJgTIl3348GQ",
        "outputId": "38ea783a-a6db-450e-c4e3-a8f5a5b4b458"
      },
      "source": [
        "\n",
        "x = 1 + 3j\n",
        "y = 2 + 4j\n",
        "\n",
        "print(x+y)\n"
      ],
      "execution_count": 1,
      "outputs": [
        {
          "output_type": "stream",
          "text": [
            "(3+7j)\n"
          ],
          "name": "stdout"
        }
      ]
    },
    {
      "cell_type": "code",
      "metadata": {
        "colab": {
          "base_uri": "https://localhost:8080/"
        },
        "id": "JvASCNvZ48GS",
        "outputId": "93177172-a75a-4cee-a28e-1dfc43ff63ae"
      },
      "source": [
        "'''\"xyza\"\n",
        "1\n",
        "2.434\n",
        "3 + 4j'''\n",
        "\n",
        "x = 3 + 4j\n",
        "x =10.000\n",
        "X = 100\n",
        "print(X)"
      ],
      "execution_count": 2,
      "outputs": [
        {
          "output_type": "stream",
          "text": [
            "100\n"
          ],
          "name": "stdout"
        }
      ]
    },
    {
      "cell_type": "code",
      "metadata": {
        "colab": {
          "base_uri": "https://localhost:8080/"
        },
        "id": "WUISJ3p_48GS",
        "outputId": "47286c2c-5bc1-4ce5-fd0f-a48ca7580ef7"
      },
      "source": [
        "''' def stands for definiing a function\n",
        "main just represents an entry point to your code\n",
        ": represents code block '''\n",
        "\n",
        "# strings are collection of some characters\n",
        "# you can use single quotes or double quotes or triple quotes\n",
        "# 'hello world'\n",
        "# \"hello world\"\n",
        "# '''hello world'''\n",
        "# \"\"\"hello world\"\"\"\n",
        "\n",
        "def main():\n",
        "    print (\"hi hello world\")\n",
        "    \n",
        "main()\n"
      ],
      "execution_count": 3,
      "outputs": [
        {
          "output_type": "stream",
          "text": [
            "hi hello world\n"
          ],
          "name": "stdout"
        }
      ]
    },
    {
      "cell_type": "code",
      "metadata": {
        "colab": {
          "base_uri": "https://localhost:8080/"
        },
        "id": "aMlg0EQW48GT",
        "outputId": "47bd6ae8-9e7e-45e5-ed51-fd6194f68f7e"
      },
      "source": [
        "# To get object reference of a particular variable you can use id function \n",
        "\n",
        "x = 10\n",
        "y = 20\n",
        "print('Object reference address: ', id(x))\n",
        "print('Object reference address: ', id(y))"
      ],
      "execution_count": 4,
      "outputs": [
        {
          "output_type": "stream",
          "text": [
            "Object reference address:  94562185730848\n",
            "Object reference address:  94562185731168\n"
          ],
          "name": "stdout"
        }
      ]
    },
    {
      "cell_type": "code",
      "metadata": {
        "colab": {
          "base_uri": "https://localhost:8080/"
        },
        "id": "IBVzAgag48GU",
        "outputId": "d7443fe2-3ed6-40d3-84c9-f22860f01dd9"
      },
      "source": [
        "# To get data type of a variable or value we can use type function\n",
        "\n",
        "x = 10\n",
        "print('Type of variable x is ', type(x))\n",
        "print('Type of value 10 is ', type(10))\n",
        "\n",
        "x = 9.45\n",
        "print('Type of variable x is ', type(x))\n",
        "print('Type of valeu 9.45 is ', type(9.45))\n",
        "\n",
        "x = 'edureka class'\n",
        "print('Type of variable x is ', type(x))\n",
        "print('Type of string \"edureka class\" is', type(\"edureka class\"))\n",
        "\n",
        "x = 1 + 10j\n",
        "print('Type of variable x is',  type(x))\n",
        "print('Type of value 1+10j is ', type(1+10j))"
      ],
      "execution_count": 5,
      "outputs": [
        {
          "output_type": "stream",
          "text": [
            "Type of variable x is  <class 'int'>\n",
            "Type of value 10 is  <class 'int'>\n",
            "Type of variable x is  <class 'float'>\n",
            "Type of valeu 9.45 is  <class 'float'>\n",
            "Type of variable x is  <class 'str'>\n",
            "Type of string \"edureka class\" is <class 'str'>\n",
            "Type of variable x is <class 'complex'>\n",
            "Type of value 1+10j is  <class 'complex'>\n"
          ],
          "name": "stdout"
        }
      ]
    },
    {
      "cell_type": "code",
      "metadata": {
        "colab": {
          "base_uri": "https://localhost:8080/"
        },
        "id": "offf8sQ048GU",
        "outputId": "f225c72f-3724-4eeb-be07-6da2fc4dc80b"
      },
      "source": [
        "'''To verify if a particular data item is an instance or child of a data type like int, str, float \n",
        "   we can use isinstance method'''\n",
        "\n",
        "x =100\n",
        "print('checking for x and 10 value')\n",
        "print(isinstance(x, int)) # verifies if variable x containing value 10 is child of integer data type\n",
        "print(isinstance(10, int)) # you can provide value directly\n",
        "\n",
        "y = 94.242\n",
        "print('checking for y and 94.242 value')\n",
        "print(isinstance(y, float)) # verifies if variable y containing value 94.242 is child of float data type\n",
        "print(isinstance(94.242, float)) # you can provide value directly\n",
        "\n",
        "z = 'hello world'\n",
        "print('checking for z and \"hello world\" value')\n",
        "print(isinstance(z, str)) # verifies if variable z containing value \"hello world\" is child of str data type\n",
        "print(isinstance('hello world', str)) # you can provide value directly\n",
        "\n",
        "# isinstance method will generate false value when you use it on a wrong data type\n",
        "print(isinstance(10, float))\n",
        "print(isinstance('hello world', int))"
      ],
      "execution_count": 6,
      "outputs": [
        {
          "output_type": "stream",
          "text": [
            "checking for x and 10 value\n",
            "True\n",
            "True\n",
            "checking for y and 94.242 value\n",
            "True\n",
            "True\n",
            "checking for z and \"hello world\" value\n",
            "True\n",
            "True\n",
            "False\n",
            "False\n"
          ],
          "name": "stdout"
        }
      ]
    },
    {
      "cell_type": "code",
      "metadata": {
        "colab": {
          "base_uri": "https://localhost:8080/"
        },
        "id": "gbMptxoG48GV",
        "outputId": "0eea976b-c824-47a5-d9a3-4af69d30ce2a"
      },
      "source": [
        "\"\"\" Whenever you assign a value to a variable Python creates a new most except in some cases\n",
        "    Below are some examples \"\"\"\n",
        "\n",
        "x = 10\n",
        "print('x value and object id is', (x, id(x)))\n",
        "\n",
        "x = 20\n",
        "print('x value and object id is', (x, id(x)))"
      ],
      "execution_count": 7,
      "outputs": [
        {
          "output_type": "stream",
          "text": [
            "x value and object id is (10, 94562185730848)\n",
            "x value and object id is (20, 94562185731168)\n"
          ],
          "name": "stdout"
        }
      ]
    },
    {
      "cell_type": "code",
      "metadata": {
        "colab": {
          "base_uri": "https://localhost:8080/"
        },
        "id": "PG2IOElu48GW",
        "outputId": "4cc55e92-e523-4f3f-e039-93ff88cab873"
      },
      "source": [
        "# Numbers can also be represented in binary, octal and hexadecimal\n",
        "x = 10\n",
        "\n",
        "print(bin(x))\n",
        "print(oct(x))\n",
        "print(hex(x))"
      ],
      "execution_count": 8,
      "outputs": [
        {
          "output_type": "stream",
          "text": [
            "0b1010\n",
            "0o12\n",
            "0xa\n"
          ],
          "name": "stdout"
        }
      ]
    },
    {
      "cell_type": "code",
      "metadata": {
        "colab": {
          "base_uri": "https://localhost:8080/"
        },
        "id": "Ay9wrI6f48GW",
        "outputId": "fd58a21f-a186-4ab9-9f88-c062f9fb0624"
      },
      "source": [
        "''' Any set of characters embedded inside single quotes or double quotes\n",
        "or triple single quotes or triple double quotes is considered as string '''\n",
        "\n",
        "x = 'hello world'\n",
        "print('x value is and type is',x, type(x))\n",
        "\n",
        "x = \"hello world\"\n",
        "print('x value is and type is',x, type(x))\n",
        "\n",
        "x = '''hello world how\n",
        "are you where are you'''\n",
        "print('x value is and type is',x, type(x))\n",
        "\n",
        "x = \"\"\"hello world how\n",
        "are you where are you\"\"\"\n",
        "\n",
        "print('x value is and type is',x, type(x))"
      ],
      "execution_count": 9,
      "outputs": [
        {
          "output_type": "stream",
          "text": [
            "x value is and type is hello world <class 'str'>\n",
            "x value is and type is hello world <class 'str'>\n",
            "x value is and type is hello world how\n",
            "are you where are you <class 'str'>\n",
            "x value is and type is hello world how\n",
            "are you where are you <class 'str'>\n"
          ],
          "name": "stdout"
        }
      ]
    }
  ]
}