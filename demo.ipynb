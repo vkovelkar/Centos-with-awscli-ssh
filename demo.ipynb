{
  "nbformat": 4,
  "nbformat_minor": 0,
  "metadata": {
    "kernelspec": {
      "display_name": "Python 3",
      "language": "python",
      "name": "python3"
    },
    "language_info": {
      "codemirror_mode": {
        "name": "ipython",
        "version": 3
      },
      "file_extension": ".py",
      "mimetype": "text/x-python",
      "name": "python",
      "nbconvert_exporter": "python",
      "pygments_lexer": "ipython3",
      "version": "3.7.4"
    },
    "colab": {
      "name": "85zm8b5u64.ipynb",
      "provenance": [],
      "include_colab_link": true
    }
  },
  "cells": [
    {
      "cell_type": "markdown",
      "metadata": {
        "id": "view-in-github",
        "colab_type": "text"
      },
      "source": [
        "<a href=\"https://colab.research.google.com/github/vkovelkar/Centos-with-awscli-ssh/blob/main/demo.ipynb\" target=\"_parent\"><img src=\"https://colab.research.google.com/assets/colab-badge.svg\" alt=\"Open In Colab\"/></a>"
      ]
    },
    {
      "cell_type": "markdown",
      "metadata": {
        "id": "ypWX3sHcirH7"
      },
      "source": [
        "\n",
        "\n",
        "## Demo 1 - Numbers In Python\n",
        "\n",
        "In this demo, you will learn about numbers in Python. Apply different types and perform various operations on them using operators in Python."
      ]
    },
    {
      "cell_type": "code",
      "metadata": {
        "id": "CWAecEGcirIA",
        "outputId": "b2885c83-6dc3-4d41-cb05-f9c77f4b709e"
      },
      "source": [
        "#Different types of numbers supported by python\n",
        "A=10 # Integer\n",
        "B=20.1 # float\n",
        "c=10+5j # complex\n",
        "print(A,B,c)\n",
        "print(type(A),type(B),type(c))\n"
      ],
      "execution_count": null,
      "outputs": [
        {
          "output_type": "stream",
          "text": [
            "10 20.1 (10+5j)\n",
            "<class 'int'> <class 'float'> <class 'complex'>\n"
          ],
          "name": "stdout"
        }
      ]
    },
    {
      "cell_type": "code",
      "metadata": {
        "id": "c-uTOCHPirIC",
        "outputId": "5e7aef62-155b-4352-9f68-5491ecbd95f1"
      },
      "source": [
        "# Payal is beginner in Python. She is just sitting outside and studying Python. Let us see how she applies Python here. \n",
        "No_Of_Modules=input('Number of Modules:')\n",
        "No_Of_Assignments=input('Number of Assignments:')\n",
        "print('Number of Assignments per module?',No_Of_Assignments/No_Of_Modules) #Why? Type error. We cannot divide two strings.\n"
      ],
      "execution_count": null,
      "outputs": [
        {
          "output_type": "stream",
          "text": [
            "Number of Modules:8\n",
            "Number of Assignments:75\n"
          ],
          "name": "stdout"
        },
        {
          "output_type": "error",
          "ename": "TypeError",
          "evalue": "unsupported operand type(s) for /: 'str' and 'str'",
          "traceback": [
            "\u001b[1;31m---------------------------------------------------------------------------\u001b[0m",
            "\u001b[1;31mTypeError\u001b[0m                                 Traceback (most recent call last)",
            "\u001b[1;32m<ipython-input-2-9280b653bb99>\u001b[0m in \u001b[0;36m<module>\u001b[1;34m\u001b[0m\n\u001b[0;32m      2\u001b[0m \u001b[0mNo_Of_Modules\u001b[0m\u001b[1;33m=\u001b[0m\u001b[0minput\u001b[0m\u001b[1;33m(\u001b[0m\u001b[1;34m'Number of Modules:'\u001b[0m\u001b[1;33m)\u001b[0m\u001b[1;33m\u001b[0m\u001b[1;33m\u001b[0m\u001b[0m\n\u001b[0;32m      3\u001b[0m \u001b[0mNo_Of_Assignments\u001b[0m\u001b[1;33m=\u001b[0m\u001b[0minput\u001b[0m\u001b[1;33m(\u001b[0m\u001b[1;34m'Number of Assignments:'\u001b[0m\u001b[1;33m)\u001b[0m\u001b[1;33m\u001b[0m\u001b[1;33m\u001b[0m\u001b[0m\n\u001b[1;32m----> 4\u001b[1;33m \u001b[0mprint\u001b[0m\u001b[1;33m(\u001b[0m\u001b[1;34m'Number of Assignments per module?'\u001b[0m\u001b[1;33m,\u001b[0m\u001b[0mNo_Of_Assignments\u001b[0m\u001b[1;33m/\u001b[0m\u001b[0mNo_Of_Modules\u001b[0m\u001b[1;33m)\u001b[0m \u001b[1;31m#Why? Type error. We cannot divide two strings.\u001b[0m\u001b[1;33m\u001b[0m\u001b[1;33m\u001b[0m\u001b[0m\n\u001b[0m",
            "\u001b[1;31mTypeError\u001b[0m: unsupported operand type(s) for /: 'str' and 'str'"
          ]
        }
      ]
    },
    {
      "cell_type": "code",
      "metadata": {
        "id": "yrfQXOg5irID",
        "outputId": "c916752a-3773-4c53-a351-1b1407f2f91a"
      },
      "source": [
        "# She tries to rectify the error by converting type to integer\n",
        "print('Number of Assignments per module?',int(No_Of_Assignments)/int(No_Of_Modules)) "
      ],
      "execution_count": null,
      "outputs": [
        {
          "output_type": "stream",
          "text": [
            "Number of Assignments per module? 9.375\n"
          ],
          "name": "stdout"
        }
      ]
    },
    {
      "cell_type": "code",
      "metadata": {
        "id": "l1BnNIhhirIE",
        "outputId": "f4253640-b2fa-49f6-cdde-18d4c9fb5bec"
      },
      "source": [
        "#It is not possible to lay half egg right?\n",
        "Assignment_Each_Module=int(No_Of_Assignments)//int(No_Of_Modules)\n",
        "print('Number of Assignments each Module will have?',Assignment_Each_Module)"
      ],
      "execution_count": null,
      "outputs": [
        {
          "output_type": "stream",
          "text": [
            "Number of Assignments each Module will have? 9\n"
          ],
          "name": "stdout"
        }
      ]
    },
    {
      "cell_type": "code",
      "metadata": {
        "id": "PnGlDWQhirIE",
        "outputId": "1e76262d-bb2d-410f-cc62-b33968bd16a8"
      },
      "source": [
        "# %i represents an integer value\n",
        "# Now, Payal wants to measure the area of the farm. She asks her dad to enter length and breadth of the farm.\n",
        "length, breadth=input('Enter length and breadth of the farm separated by comma:').split(',')\n",
        "area=float(length)*float(breadth)\n",
        "print('Area of field:',area)"
      ],
      "execution_count": null,
      "outputs": [
        {
          "output_type": "stream",
          "text": [
            "Enter length and breadth of the farm separated by comma:550,780\n",
            "Area of field: 429000.0\n"
          ],
          "name": "stdout"
        }
      ]
    },
    {
      "cell_type": "code",
      "metadata": {
        "id": "hruVFUDbirIF",
        "outputId": "d0827068-9663-4b97-bfd8-f88bd4ea0113"
      },
      "source": [
        "# Some of the land is used as grazing land. So, the usable area should be-\n",
        "grazing_land=200\n",
        "area -= 200\n",
        "print('Usable area:',area)"
      ],
      "execution_count": null,
      "outputs": [
        {
          "output_type": "stream",
          "text": [
            "Usable area: 428800.0\n"
          ],
          "name": "stdout"
        }
      ]
    },
    {
      "cell_type": "code",
      "metadata": {
        "id": "u73lEwDgirIG",
        "outputId": "34122b18-43e6-49ab-9802-12bab3fd5e1d"
      },
      "source": [
        "# Rest of the area is evenly divided into 7 parts\n",
        "print('Area for each section:',area/7)"
      ],
      "execution_count": null,
      "outputs": [
        {
          "output_type": "stream",
          "text": [
            "Area for each section: 61257.142857142855\n"
          ],
          "name": "stdout"
        }
      ]
    },
    {
      "cell_type": "code",
      "metadata": {
        "id": "8APrDHWYirIH",
        "outputId": "e8189622-3e85-4a88-b386-9a0a903fc8f4"
      },
      "source": [
        "# The precision level is to high, Payal needs just 4 decimal places\n",
        "print('Area for each section %0.4f'%(area/7))"
      ],
      "execution_count": null,
      "outputs": [
        {
          "output_type": "stream",
          "text": [
            "Area for each section 61257.1429\n"
          ],
          "name": "stdout"
        }
      ]
    },
    {
      "cell_type": "code",
      "metadata": {
        "id": "BUor-w0iirII",
        "outputId": "6f424e08-2ba4-405d-9011-960d0ef45c25"
      },
      "source": [
        "# Formatting can also be done using format() function\n",
        "print('Area for each section {:.3f}'.format(area/7))"
      ],
      "execution_count": null,
      "outputs": [
        {
          "output_type": "stream",
          "text": [
            "Area for each section 61257.143\n"
          ],
          "name": "stdout"
        }
      ]
    },
    {
      "cell_type": "code",
      "metadata": {
        "id": "MRltlkieirII"
      },
      "source": [
        "# later she learnt how to use complex number in python\n",
        "A=10+3j\n",
        "B=5-10j"
      ],
      "execution_count": null,
      "outputs": []
    },
    {
      "cell_type": "code",
      "metadata": {
        "id": "jRwvVqmlirIJ",
        "outputId": "f555ef27-4362-47d2-bbd6-ff288bfde33c"
      },
      "source": [
        "#operations on complex numbers\n",
        "print('Addition of two complex numbers:',A+B)\n",
        "print('Mulitplication of a complex number and an integer:',A*2)\n",
        "print('Real part of a complex number:',A.real)\n",
        "print('Conjugate of complex number:',A.conjugate())\n",
        "print('Imaginary part of a complex number:',A.imag)"
      ],
      "execution_count": null,
      "outputs": [
        {
          "output_type": "stream",
          "text": [
            "Addition of two complex numbers: (15-7j)\n",
            "Mulitplication of a complex number and an integer: (20+6j)\n",
            "Real part of a complex number: 10.0\n",
            "Conjugate of complex number: (10-3j)\n",
            "Imaginary part of a complex number: 3.0\n"
          ],
          "name": "stdout"
        }
      ]
    },
    {
      "cell_type": "code",
      "metadata": {
        "id": "WaLMwkppirIJ",
        "outputId": "6d4c0bfd-f115-46f8-886d-5d15fe37c21c"
      },
      "source": [
        "# Comparision of real part to an integer\n",
        "print(A.real == 10)"
      ],
      "execution_count": null,
      "outputs": [
        {
          "output_type": "stream",
          "text": [
            "True\n"
          ],
          "name": "stdout"
        }
      ]
    },
    {
      "cell_type": "code",
      "metadata": {
        "id": "kShMGO3GirIK",
        "outputId": "14682aa5-0aca-42b3-d7cc-dbea6052ee5d"
      },
      "source": [
        "# left shift and right shift\n",
        "# binary of 5= 00000101 so left shifting by two places\n",
        "# 101(5) << 2 => 10100 which is 20 in decimal\n",
        "\n",
        "5<<2,5>>2"
      ],
      "execution_count": null,
      "outputs": [
        {
          "output_type": "execute_result",
          "data": {
            "text/plain": [
              "(20, 1)"
            ]
          },
          "metadata": {
            "tags": []
          },
          "execution_count": 15
        }
      ]
    },
    {
      "cell_type": "code",
      "metadata": {
        "id": "VbMQ3rJ-irIK",
        "outputId": "848c49e9-6d4d-45d0-cd7b-ce22b551657c"
      },
      "source": [
        "#To represent a number in various number systems\n",
        "test=int(input('Enter a number:'))\n",
        "print('octal %s:'%oct(test))\n",
        "print('binary %s:'%bin(test))\n",
        "print('hexadecimal %s:'%hex(test))\n",
        "#why %s? these functions return specific value in string for representation"
      ],
      "execution_count": null,
      "outputs": [
        {
          "output_type": "stream",
          "text": [
            "Enter a number:7\n",
            "octal 0o7:\n",
            "binary 0b111:\n",
            "hexadecimal 0x7:\n"
          ],
          "name": "stdout"
        }
      ]
    },
    {
      "cell_type": "code",
      "metadata": {
        "id": "ihBrzaJFirIL",
        "outputId": "6c52596d-163c-49d9-8e4a-7e40997e7048"
      },
      "source": [
        "# Exponents and powers\n",
        "print('2 to 5th power: %d'%2**5)\n",
        "print('three times ten to the fifth power: %d'%3e5) #python supports E-notation"
      ],
      "execution_count": null,
      "outputs": [
        {
          "output_type": "stream",
          "text": [
            "2 to 5th power: 32\n",
            "three times ten to the fifth power: 300000\n"
          ],
          "name": "stdout"
        }
      ]
    },
    {
      "cell_type": "code",
      "metadata": {
        "id": "23bUEB2-irIL",
        "outputId": "c7b9a91d-cdd7-4927-ec95-fa57a5e5a5ef"
      },
      "source": [
        "# While playing with numbers she noticed something unsual\n",
        "print(1.1+2.2==3.3)"
      ],
      "execution_count": null,
      "outputs": [
        {
          "output_type": "stream",
          "text": [
            "False\n"
          ],
          "name": "stdout"
        }
      ]
    },
    {
      "cell_type": "code",
      "metadata": {
        "id": "NsptjIlzirIM",
        "outputId": "790db25e-0593-43d5-88a8-85674c04e94e"
      },
      "source": [
        "#How can that be possible?\n",
        "x=1.1+2.20\n",
        "y=3.3\n",
        "print(x==y)"
      ],
      "execution_count": null,
      "outputs": [
        {
          "output_type": "stream",
          "text": [
            "False\n"
          ],
          "name": "stdout"
        }
      ]
    },
    {
      "cell_type": "code",
      "metadata": {
        "id": "_p2ehL6birIM",
        "outputId": "66a1eced-4505-4526-a5a7-ce7b363472d9"
      },
      "source": [
        "#  It due to machine error. Machines cannot store decimals precisely\n",
        "print(x)\n",
        "print(y)"
      ],
      "execution_count": null,
      "outputs": [
        {
          "output_type": "stream",
          "text": [
            "3.3000000000000003\n",
            "3.3\n"
          ],
          "name": "stdout"
        }
      ]
    },
    {
      "cell_type": "code",
      "metadata": {
        "id": "yDGRpIMkirIM",
        "outputId": "7ee6a132-ec24-469f-9667-ac3359b253aa"
      },
      "source": [
        "''' Payal wants to convert temperature from Fahrenheit to Celcuis\n",
        "    Let us try to help her\n",
        "    She knows the Formula is: C = 5 / 9 * (F - 32)\n",
        "    One more thing! This is how we write multiline comments in Python.\n",
        "'''\n",
        "F=int(input('Enter the temperature in fahrenheit: '))\n",
        "C=5/9*(F-32)\n",
        "print('Celcuis: %0.2f'%C)\n"
      ],
      "execution_count": null,
      "outputs": [
        {
          "output_type": "stream",
          "text": [
            "Enter the temperature in fahrenheit: 98\n",
            "Celcuis: 36.67\n"
          ],
          "name": "stdout"
        }
      ]
    },
    {
      "cell_type": "markdown",
      "metadata": {
        "id": "ZhW3Lls6irIN"
      },
      "source": [
        "##### Conclusion: This code demonstrates how to declare and perform operations on numbers in python"
      ]
    }
  ]
}