{
  "nbformat": 4,
  "nbformat_minor": 0,
  "metadata": {
    "kernelspec": {
      "display_name": "Python 3",
      "language": "python",
      "name": "python3"
    },
    "language_info": {
      "codemirror_mode": {
        "name": "ipython",
        "version": 3
      },
      "file_extension": ".py",
      "mimetype": "text/x-python",
      "name": "python",
      "nbconvert_exporter": "python",
      "pygments_lexer": "ipython3",
      "version": "3.9.5"
    },
    "colab": {
      "name": "Control_Structures.ipynb",
      "provenance": [],
      "include_colab_link": true
    }
  },
  "cells": [
    {
      "cell_type": "markdown",
      "metadata": {
        "id": "view-in-github",
        "colab_type": "text"
      },
      "source": [
        "<a href=\"https://colab.research.google.com/github/vkovelkar/Centos-with-awscli-ssh/blob/main/Control_Structures.ipynb\" target=\"_parent\"><img src=\"https://colab.research.google.com/assets/colab-badge.svg\" alt=\"Open In Colab\"/></a>"
      ]
    },
    {
      "cell_type": "markdown",
      "metadata": {
        "id": "s_zPxwqX6h5x"
      },
      "source": [
        "## Conditional Statements (if, if-else, if-elif, if-elif-else, nested if)"
      ]
    },
    {
      "cell_type": "code",
      "metadata": {
        "colab": {
          "base_uri": "https://localhost:8080/",
          "height": 248
        },
        "id": "fFhVR1H0oImc",
        "outputId": "03b44860-41df-4e19-9870-a141d12bb393"
      },
      "source": [
        "x=input('Enter a number')\n",
        "y=input('Enter another number')\n",
        "z=10\n",
        "value= (x*y)+z\n",
        "print(value, type(value))\n"
      ],
      "execution_count": 1,
      "outputs": [
        {
          "output_type": "stream",
          "text": [
            "Enter a number10\n",
            "Enter another number20\n"
          ],
          "name": "stdout"
        },
        {
          "output_type": "error",
          "ename": "TypeError",
          "evalue": "ignored",
          "traceback": [
            "\u001b[0;31m---------------------------------------------------------------------------\u001b[0m",
            "\u001b[0;31mTypeError\u001b[0m                                 Traceback (most recent call last)",
            "\u001b[0;32m<ipython-input-1-10c0b7d1aaf0>\u001b[0m in \u001b[0;36m<module>\u001b[0;34m()\u001b[0m\n\u001b[1;32m      2\u001b[0m \u001b[0my\u001b[0m\u001b[0;34m=\u001b[0m\u001b[0minput\u001b[0m\u001b[0;34m(\u001b[0m\u001b[0;34m'Enter another number'\u001b[0m\u001b[0;34m)\u001b[0m\u001b[0;34m\u001b[0m\u001b[0;34m\u001b[0m\u001b[0m\n\u001b[1;32m      3\u001b[0m \u001b[0mz\u001b[0m\u001b[0;34m=\u001b[0m\u001b[0;36m10\u001b[0m\u001b[0;34m\u001b[0m\u001b[0;34m\u001b[0m\u001b[0m\n\u001b[0;32m----> 4\u001b[0;31m \u001b[0mvalue\u001b[0m\u001b[0;34m=\u001b[0m \u001b[0;34m(\u001b[0m\u001b[0mx\u001b[0m\u001b[0;34m*\u001b[0m\u001b[0my\u001b[0m\u001b[0;34m)\u001b[0m\u001b[0;34m+\u001b[0m\u001b[0mz\u001b[0m\u001b[0;34m\u001b[0m\u001b[0;34m\u001b[0m\u001b[0m\n\u001b[0m\u001b[1;32m      5\u001b[0m \u001b[0mprint\u001b[0m\u001b[0;34m(\u001b[0m\u001b[0mvalue\u001b[0m\u001b[0;34m,\u001b[0m \u001b[0mtype\u001b[0m\u001b[0;34m(\u001b[0m\u001b[0mvalue\u001b[0m\u001b[0;34m)\u001b[0m\u001b[0;34m)\u001b[0m\u001b[0;34m\u001b[0m\u001b[0;34m\u001b[0m\u001b[0m\n",
            "\u001b[0;31mTypeError\u001b[0m: can't multiply sequence by non-int of type 'str'"
          ]
        }
      ]
    },
    {
      "cell_type": "code",
      "metadata": {
        "colab": {
          "base_uri": "https://localhost:8080/"
        },
        "id": "FMG7145vynzs",
        "outputId": "0bd7fe91-5aaa-47e6-acad-3f836a86942a"
      },
      "source": [
        "i=50\n",
        "if (i != 60):\n",
        "  print(\"Check the value of i :\",i)\n",
        "print(\"Byee\")"
      ],
      "execution_count": 3,
      "outputs": [
        {
          "output_type": "stream",
          "text": [
            "Check the value of i : 50\n",
            "Byee\n"
          ],
          "name": "stdout"
        }
      ]
    },
    {
      "cell_type": "code",
      "metadata": {
        "colab": {
          "base_uri": "https://localhost:8080/"
        },
        "id": "tFMynuPmzmQL",
        "outputId": "6cf18760-e29e-48bb-acc6-4b2657757d49"
      },
      "source": [
        "for x in range(1,8):\n",
        "  for y in range(1,9):\n",
        "    print('%d * %d = %d' % (x,y,x*y) )"
      ],
      "execution_count": 4,
      "outputs": [
        {
          "output_type": "stream",
          "text": [
            "1 * 1 = 1\n",
            "1 * 2 = 2\n",
            "1 * 3 = 3\n",
            "1 * 4 = 4\n",
            "1 * 5 = 5\n",
            "1 * 6 = 6\n",
            "1 * 7 = 7\n",
            "1 * 8 = 8\n",
            "2 * 1 = 2\n",
            "2 * 2 = 4\n",
            "2 * 3 = 6\n",
            "2 * 4 = 8\n",
            "2 * 5 = 10\n",
            "2 * 6 = 12\n",
            "2 * 7 = 14\n",
            "2 * 8 = 16\n",
            "3 * 1 = 3\n",
            "3 * 2 = 6\n",
            "3 * 3 = 9\n",
            "3 * 4 = 12\n",
            "3 * 5 = 15\n",
            "3 * 6 = 18\n",
            "3 * 7 = 21\n",
            "3 * 8 = 24\n",
            "4 * 1 = 4\n",
            "4 * 2 = 8\n",
            "4 * 3 = 12\n",
            "4 * 4 = 16\n",
            "4 * 5 = 20\n",
            "4 * 6 = 24\n",
            "4 * 7 = 28\n",
            "4 * 8 = 32\n",
            "5 * 1 = 5\n",
            "5 * 2 = 10\n",
            "5 * 3 = 15\n",
            "5 * 4 = 20\n",
            "5 * 5 = 25\n",
            "5 * 6 = 30\n",
            "5 * 7 = 35\n",
            "5 * 8 = 40\n",
            "6 * 1 = 6\n",
            "6 * 2 = 12\n",
            "6 * 3 = 18\n",
            "6 * 4 = 24\n",
            "6 * 5 = 30\n",
            "6 * 6 = 36\n",
            "6 * 7 = 42\n",
            "6 * 8 = 48\n",
            "7 * 1 = 7\n",
            "7 * 2 = 14\n",
            "7 * 3 = 21\n",
            "7 * 4 = 28\n",
            "7 * 5 = 35\n",
            "7 * 6 = 42\n",
            "7 * 7 = 49\n",
            "7 * 8 = 56\n"
          ],
          "name": "stdout"
        }
      ]
    },
    {
      "cell_type": "code",
      "metadata": {
        "id": "SOWQur_g6h53"
      },
      "source": [
        "# if condition\n",
        "'''\n",
        "    if condition:\n",
        "        statement1\n",
        "        statement2\n",
        "    else:\n",
        "        statement1\n",
        "        statement2\n",
        "        \n",
        "'''\n",
        "\n",
        "x = 10\n",
        "if x > 50:\n",
        "    print('x value is greater than 5')"
      ],
      "execution_count": null,
      "outputs": []
    },
    {
      "cell_type": "code",
      "metadata": {
        "id": "96Bi3VI56h54",
        "outputId": "699ca9e2-7003-4d3a-b858-697901ba945f"
      },
      "source": [
        "\n",
        "\n",
        "# Example 1 :\n",
        "\n",
        "x=1\n",
        "if(x>=5):\n",
        "    print('Welcome to Python Programming')\n",
        "    x=x+1\n",
        "else:\n",
        "    print('looks like x is not >= 5')\n",
        "    \n",
        "print('The value of x is:',x)"
      ],
      "execution_count": null,
      "outputs": [
        {
          "output_type": "stream",
          "text": [
            "looks like x is not >= 5\n",
            "The value of x is: 1\n"
          ],
          "name": "stdout"
        }
      ]
    },
    {
      "cell_type": "code",
      "metadata": {
        "id": "mf-wsD9R6h56",
        "outputId": "6dca5664-efcf-4bc1-f26e-1861c25df335"
      },
      "source": [
        "x = 0\n",
        "\n",
        "if x > 0:\n",
        "    print('positive number')\n",
        "else:\n",
        "    if x < 0:\n",
        "        print('negative number')\n",
        "    else:\n",
        "        print('Zero number')"
      ],
      "execution_count": null,
      "outputs": [
        {
          "output_type": "stream",
          "text": [
            "Zero number\n"
          ],
          "name": "stdout"
        }
      ]
    },
    {
      "cell_type": "code",
      "metadata": {
        "id": "M7q2QLy76h58",
        "outputId": "6841f44d-e7e6-4818-c1ec-2e1ab7509b69"
      },
      "source": [
        "# Example 2:\n",
        "\n",
        "var1=100\n",
        "var2=15\n",
        "if(var1>=var2):\n",
        "    if((var1-var2)%2==0):\n",
        "        print('Welcome to Edureka')\n",
        "    else:\n",
        "        print('Hello Edureka')\n",
        "else:\n",
        "    if((var2-var1)%2==0):\n",
        "        print('Welcome to Python')\n",
        "    else:\n",
        "        print('Hello Python')\n",
        "\n",
        "        "
      ],
      "execution_count": null,
      "outputs": [
        {
          "output_type": "stream",
          "text": [
            "Hello Edureka\n"
          ],
          "name": "stdout"
        }
      ]
    },
    {
      "cell_type": "code",
      "metadata": {
        "id": "ci-9pGMF6h58",
        "outputId": "2f82cdb0-82b8-4613-d46e-8dc3fb3396a0"
      },
      "source": [
        "'''\n",
        "    if condition:\n",
        "        statement1\n",
        "        statement2\n",
        "    elif condition:\n",
        "        statement1\n",
        "        statement2\n",
        "    elif condition:\n",
        "        statement1\n",
        "        statement2\n",
        "    else: # optional\n",
        "        statement1\n",
        "        statement2\n",
        "'''\n",
        "\n",
        "# Example 3:\n",
        "a=10\n",
        "b=15.0\n",
        "c=a+b\n",
        "print(c)\n",
        "c = 1 + 2j\n",
        "print(type(c))\n",
        "\n",
        "if(type(c) is int):\n",
        "    print('It is an integer')\n",
        "elif(type(c) is float):        #Line1\n",
        "    print('It is a float')\n",
        "elif(type(c) is str):        #Line2\n",
        "    print('Yes, it is a string')\n",
        "else:\n",
        "    print('The datatype of c is:', type(c))"
      ],
      "execution_count": null,
      "outputs": [
        {
          "output_type": "stream",
          "text": [
            "25.0\n",
            "<class 'complex'>\n",
            "The datatype of c is: <class 'complex'>\n"
          ],
          "name": "stdout"
        }
      ]
    },
    {
      "cell_type": "code",
      "metadata": {
        "id": "wh-rRKOs6h5-"
      },
      "source": [
        "##Please note that, here in above both the condition mentioned in Line1 and Line2 are valid. But, once one condition is \n",
        "##satisfied,it won't check any further condition and it comes out of the flow.\n",
        "## And also remember that else is not a mandatory block to be written."
      ],
      "execution_count": null,
      "outputs": []
    },
    {
      "cell_type": "markdown",
      "metadata": {
        "id": "QsxiCKLY6h5_"
      },
      "source": [
        "## Iteration Control Structure/Loops ( while, for, for-else, usage of continue, break, pass statements"
      ]
    },
    {
      "cell_type": "code",
      "metadata": {
        "id": "IUz_LBQJ6h6A",
        "outputId": "b6566bfe-2cf8-4790-8bf9-89a861f4002e"
      },
      "source": [
        "# while loop syntax\n",
        "'''\n",
        "    while condition:\n",
        "        statement1\n",
        "        statement2\n",
        "        ......\n",
        "'''\n",
        "\n",
        "# Example 4\n",
        "x='hello'\n",
        "y=5\n",
        "\n",
        "while type(x) is str:\n",
        "    print('hi')\n",
        "    y+=1 # y = y + 1\n",
        "    if(y>9):\n",
        "        x=y\n",
        "print('******End******')\n"
      ],
      "execution_count": null,
      "outputs": [
        {
          "output_type": "stream",
          "text": [
            "hi\n",
            "hi\n",
            "hi\n",
            "hi\n",
            "hi\n",
            "******End******\n"
          ],
          "name": "stdout"
        }
      ]
    },
    {
      "cell_type": "code",
      "metadata": {
        "id": "cA7wZezN6h6B",
        "outputId": "d35d35b3-58e6-4498-fdbe-72a8dba54eb1"
      },
      "source": [
        "# range operator\n",
        "# syntax: range(start, stop, step)\n",
        "# start value by default is 0, \n",
        "# stop value by default is length of data object and the stop value is excluded,\n",
        "# step value by default is 1\n",
        "\n",
        "print(list(range(0, 10, 2)))\n",
        "print(range(0, 10, 2))\n",
        "\n",
        "print(list(range(2, 10, 2)))\n",
        "\n",
        "print(list(range(10))) # range(0, 10,1)\n",
        "\n",
        "print(list(range(2, 10))) # range(2, 10,1)\n",
        "\n",
        "print(list(range (5,2,-1)))"
      ],
      "execution_count": null,
      "outputs": [
        {
          "output_type": "stream",
          "text": [
            "[0, 2, 4, 6, 8]\n",
            "range(0, 10, 2)\n",
            "[2, 4, 6, 8]\n",
            "[0, 1, 2, 3, 4, 5, 6, 7, 8, 9]\n",
            "[2, 3, 4, 5, 6, 7, 8, 9]\n",
            "[5, 4, 3]\n"
          ],
          "name": "stdout"
        }
      ]
    },
    {
      "cell_type": "code",
      "metadata": {
        "id": "sBdzPCWN6h6C",
        "outputId": "08733c54-be90-478b-f9e6-5b38f72cef11"
      },
      "source": [
        "# for loop syntax\n",
        "'''\n",
        "    for variable in iterator:\n",
        "        statement1\n",
        "        statement2\n",
        "        ....\n",
        "        \n",
        "where iterator could be list, tuple, sets, dict, strings, range operator, files\n",
        "'''\n",
        "x = [1,2,3]\n",
        "for i in x: \n",
        "    print(i)\n",
        "    \n",
        "\n",
        "t = (1,2,3)\n",
        "for i in t:\n",
        "    print(i)\n",
        "\n",
        "s = {10, 20, 30}\n",
        "for i in s:\n",
        "    print(i)\n",
        "    \n",
        "d = {'name': 'hari', 'age':36, 'salary': 50000}\n",
        "for i in d:\n",
        "    print(i, d[i]) # 'name', d['name']"
      ],
      "execution_count": null,
      "outputs": [
        {
          "output_type": "stream",
          "text": [
            "1\n",
            "2\n",
            "3\n",
            "1\n",
            "2\n",
            "3\n",
            "10\n",
            "20\n",
            "30\n",
            "name hari\n",
            "age 36\n",
            "salary 50000\n"
          ],
          "name": "stdout"
        }
      ]
    },
    {
      "cell_type": "code",
      "metadata": {
        "id": "bwsc4gWU6h6D",
        "outputId": "18eb0f23-755a-4982-ded8-6d3433ec24ca"
      },
      "source": [
        "for i in range(10):\n",
        "    print(i)"
      ],
      "execution_count": null,
      "outputs": [
        {
          "output_type": "stream",
          "text": [
            "0\n",
            "1\n",
            "2\n",
            "3\n",
            "4\n",
            "5\n",
            "6\n",
            "7\n",
            "8\n",
            "9\n"
          ],
          "name": "stdout"
        }
      ]
    },
    {
      "cell_type": "code",
      "metadata": {
        "id": "jCCFKpvi6h6D",
        "outputId": "f9c16df0-ef87-4708-c7aa-647cb9ad0c7d"
      },
      "source": [
        "# Example 5\n",
        "\n",
        "for i in range(1,5):  # [1,2,3,4]\n",
        "    print(i)\n",
        "    for j in range(i,i+2): # range(2, 4) => [2,3]\n",
        "        if((i+j)%2==0):\n",
        "            print('Hello')\n",
        "        else:\n",
        "            continue\n",
        "            print('hello world')\n"
      ],
      "execution_count": null,
      "outputs": [
        {
          "output_type": "stream",
          "text": [
            "1\n",
            "Hello\n",
            "2\n",
            "Hello\n",
            "3\n",
            "Hello\n",
            "4\n",
            "Hello\n"
          ],
          "name": "stdout"
        }
      ]
    },
    {
      "cell_type": "code",
      "metadata": {
        "id": "s-ae044h6h6F",
        "outputId": "795b0f80-a3c7-43db-e20d-a2f4bb5396b9"
      },
      "source": [
        "# Example 6\n",
        "\n",
        "for i in range (5,1,-1): # [5, 4,3,2]\n",
        "    j=i\n",
        "    while(j==i):\n",
        "        print('hi', i*j)\n",
        "        i=i+1\n",
        "    if(i+j)>10:\n",
        "        continue\n",
        "    print(i**2)\n",
        "else:\n",
        "    print('For loop execution is successful')\n",
        "        "
      ],
      "execution_count": null,
      "outputs": [
        {
          "output_type": "stream",
          "text": [
            "hi 25\n",
            "hi 16\n",
            "25\n",
            "hi 9\n",
            "16\n",
            "hi 4\n",
            "9\n",
            "For loop execution is successful\n"
          ],
          "name": "stdout"
        }
      ]
    },
    {
      "cell_type": "code",
      "metadata": {
        "id": "yRNwnbYL6h6F",
        "outputId": "e2b1a51a-452e-4220-c08f-03c6f8e87fc7"
      },
      "source": [
        "n = 7\n",
        "\n",
        "is_not_prime = False\n",
        "for i in range(2, n):\n",
        "    if n % i == 0:\n",
        "        is_not_prime = True\n",
        "        \n",
        "if is_not_prime:\n",
        "    print('%d is not a prime number'% n)\n",
        "else:\n",
        "    print('%d is a prime number' % n)"
      ],
      "execution_count": null,
      "outputs": [
        {
          "output_type": "stream",
          "text": [
            "7 is a prime number\n"
          ],
          "name": "stdout"
        }
      ]
    },
    {
      "cell_type": "code",
      "metadata": {
        "id": "jd8quJAd6h6G",
        "outputId": "5ffcef93-4b3a-4cbe-a7c3-857280269d84"
      },
      "source": [
        "n = 99\n",
        "\n",
        "for i in range(2, n):\n",
        "    if n % i == 0:\n",
        "        print('%d is not a prime number' % n)\n",
        "        break\n",
        "else: # will execute when the break statement inside for loop never executes\n",
        "    print('%d is a prime number' % n)"
      ],
      "execution_count": null,
      "outputs": [
        {
          "output_type": "stream",
          "text": [
            "99 is not a prime number\n"
          ],
          "name": "stdout"
        }
      ]
    },
    {
      "cell_type": "code",
      "metadata": {
        "id": "6P3Kn3TD6h6H",
        "outputId": "e49b7627-d358-4ff5-d388-0a7c7e01dce8"
      },
      "source": [
        "# Example 7\n",
        "\n",
        "for var1 in range(1,5): # [1,2,3,4]\n",
        "    # var1 = 1\n",
        "    # range(var1+1,5) => range(2,5) => [2,3,4]\n",
        "    # var1 = 2\n",
        "    # range(var1+1,5) => range(3,5) => [3,4]\n",
        "    for var2 in range(var1+1,5): # range(1+1, 5) => range(2, 5) => [2,3,4]\n",
        "        if (var1+var2)%2==0:\n",
        "            print('hi')\n",
        "            # Break the inner loop\n",
        "            break\n",
        "    else:\n",
        "        # Continue the outer loop if the inner loop wasn't broken\n",
        "        continue\n",
        "    print('hello')\n",
        "    # Inner loop was broken, now break the outer loop as well.\n",
        "    break"
      ],
      "execution_count": null,
      "outputs": [
        {
          "output_type": "stream",
          "text": [
            "hi\n",
            "hello\n"
          ],
          "name": "stdout"
        }
      ]
    },
    {
      "cell_type": "code",
      "metadata": {
        "id": "S-S95Qqn6h6H",
        "outputId": "50bd785b-aa99-44b5-b834-dcf001348915"
      },
      "source": [
        "i = 1\n",
        "while i <= 5:\n",
        "    print(i)\n",
        "    i += 1 # i = i + 1"
      ],
      "execution_count": null,
      "outputs": [
        {
          "output_type": "stream",
          "text": [
            "1\n",
            "2\n",
            "3\n",
            "4\n",
            "5\n"
          ],
          "name": "stdout"
        }
      ]
    },
    {
      "cell_type": "code",
      "metadata": {
        "id": "jIPqu1e-6h6I",
        "outputId": "5db9d3bb-9dd4-4901-9520-bc3620b86919"
      },
      "source": [
        "if 10 > 2:\n",
        "    print('hello')\n",
        "\n",
        "print('out of code block')"
      ],
      "execution_count": null,
      "outputs": [
        {
          "output_type": "stream",
          "text": [
            "hello\n",
            "out of code block\n"
          ],
          "name": "stdout"
        }
      ]
    },
    {
      "cell_type": "code",
      "metadata": {
        "id": "rpEaMsIe6h6I",
        "outputId": "01de33da-eba2-4e45-b3a0-74be65d7d06c"
      },
      "source": [
        "x = 10\n",
        "while hex(x) < 0xa:\n",
        "    print('hexadecimal checkin')"
      ],
      "execution_count": null,
      "outputs": [
        {
          "output_type": "error",
          "ename": "TypeError",
          "evalue": "'<' not supported between instances of 'str' and 'int'",
          "traceback": [
            "\u001b[0;31m---------------------------------------------------------------------------\u001b[0m",
            "\u001b[0;31mTypeError\u001b[0m                                 Traceback (most recent call last)",
            "\u001b[0;32m<ipython-input-25-dbddb03255eb>\u001b[0m in \u001b[0;36m<module>\u001b[0;34m\u001b[0m\n\u001b[1;32m      1\u001b[0m \u001b[0mx\u001b[0m \u001b[0;34m=\u001b[0m \u001b[0;36m10\u001b[0m\u001b[0;34m\u001b[0m\u001b[0;34m\u001b[0m\u001b[0m\n\u001b[0;32m----> 2\u001b[0;31m \u001b[0;32mwhile\u001b[0m \u001b[0mhex\u001b[0m\u001b[0;34m(\u001b[0m\u001b[0mx\u001b[0m\u001b[0;34m)\u001b[0m \u001b[0;34m<\u001b[0m \u001b[0;36m0xa\u001b[0m\u001b[0;34m:\u001b[0m\u001b[0;34m\u001b[0m\u001b[0;34m\u001b[0m\u001b[0m\n\u001b[0m\u001b[1;32m      3\u001b[0m     \u001b[0mprint\u001b[0m\u001b[0;34m(\u001b[0m\u001b[0;34m'hexadecimal checkin'\u001b[0m\u001b[0;34m)\u001b[0m\u001b[0;34m\u001b[0m\u001b[0;34m\u001b[0m\u001b[0m\n",
            "\u001b[0;31mTypeError\u001b[0m: '<' not supported between instances of 'str' and 'int'"
          ]
        }
      ]
    },
    {
      "cell_type": "code",
      "metadata": {
        "id": "8YJbqlYc6h6J",
        "outputId": "6f806fc1-77ac-4799-c36c-039ca7e9730b"
      },
      "source": [
        "x = [1, 3.43, 'edureka']\n",
        "for i in x:\n",
        "    print(i)"
      ],
      "execution_count": null,
      "outputs": [
        {
          "output_type": "stream",
          "text": [
            "1\n",
            "3.43\n",
            "edureka\n"
          ],
          "name": "stdout"
        }
      ]
    },
    {
      "cell_type": "code",
      "metadata": {
        "id": "ckpbyLUT6h6J",
        "outputId": "68fe56f7-b2f3-4742-b2f7-99492147bc8c"
      },
      "source": [
        "for j in range(1,5): # [1,2,3,4]\n",
        "    print('j value each time', j)\n",
        "    if j == 3:\n",
        "        break\n",
        "    print('j value one more time', j)"
      ],
      "execution_count": null,
      "outputs": [
        {
          "output_type": "stream",
          "text": [
            "j value each time 1\n",
            "j value one more time 1\n",
            "j value each time 2\n",
            "j value one more time 2\n",
            "j value each time 3\n"
          ],
          "name": "stdout"
        }
      ]
    },
    {
      "cell_type": "code",
      "metadata": {
        "id": "vX1Hf1z_6h6K",
        "outputId": "a88e984c-5d3b-4d88-80fc-9eb52af1bafd"
      },
      "source": [
        "for i in range(1,3): # [1,2]\n",
        "    for j in range(1, 2): # [1]\n",
        "        print(i, j)\n",
        "        pass"
      ],
      "execution_count": null,
      "outputs": [
        {
          "output_type": "stream",
          "text": [
            "1 1\n",
            "2 1\n"
          ],
          "name": "stdout"
        }
      ]
    },
    {
      "cell_type": "code",
      "metadata": {
        "id": "3G8OTKT96h6K",
        "outputId": "62ec124c-8a32-4349-bd3d-0748ade382d1"
      },
      "source": [
        "print(len('abc'))"
      ],
      "execution_count": null,
      "outputs": [
        {
          "output_type": "stream",
          "text": [
            "3\n"
          ],
          "name": "stdout"
        }
      ]
    },
    {
      "cell_type": "code",
      "metadata": {
        "id": "YvxVhPWE6h6L",
        "outputId": "ab4a817c-1379-4644-a053-b3b0f6857e83"
      },
      "source": [
        "x= [ 1,2,3,4,5]\n",
        "print(len(x))"
      ],
      "execution_count": null,
      "outputs": [
        {
          "output_type": "stream",
          "text": [
            "5\n"
          ],
          "name": "stdout"
        }
      ]
    },
    {
      "cell_type": "code",
      "metadata": {
        "id": "IJmjpQMT6h6L",
        "outputId": "21f1149e-2d37-45f9-c79f-94d587f7e2f3"
      },
      "source": [
        "x = '123'\n",
        "print(float(x))"
      ],
      "execution_count": null,
      "outputs": [
        {
          "output_type": "stream",
          "text": [
            "123.0\n"
          ],
          "name": "stdout"
        }
      ]
    },
    {
      "cell_type": "code",
      "metadata": {
        "id": "6tE7_o4U6h6L",
        "outputId": "5cf4d7fb-78f7-4e85-d770-956d1a35e356"
      },
      "source": [
        "x = \"hello world how are you\"\n",
        "\n",
        "y = x.split()\n",
        "print(y)\n",
        "y.sort()\n",
        "y"
      ],
      "execution_count": null,
      "outputs": [
        {
          "output_type": "stream",
          "text": [
            "['hello', 'world', 'how', 'are', 'you']\n",
            "['__add__', '__class__', '__contains__', '__delattr__', '__delitem__', '__dir__', '__doc__', '__eq__', '__format__', '__ge__', '__getattribute__', '__getitem__', '__gt__', '__hash__', '__iadd__', '__imul__', '__init__', '__init_subclass__', '__iter__', '__le__', '__len__', '__lt__', '__mul__', '__ne__', '__new__', '__reduce__', '__reduce_ex__', '__repr__', '__reversed__', '__rmul__', '__setattr__', '__setitem__', '__sizeof__', '__str__', '__subclasshook__', 'append', 'clear', 'copy', 'count', 'extend', 'index', 'insert', 'pop', 'remove', 'reverse', 'sort']\n"
          ],
          "name": "stdout"
        },
        {
          "output_type": "execute_result",
          "data": {
            "text/plain": [
              "['are', 'hello', 'how', 'world', 'you']"
            ]
          },
          "metadata": {
            "tags": []
          },
          "execution_count": 51
        }
      ]
    },
    {
      "cell_type": "code",
      "metadata": {
        "id": "CS0bffk-6h6L",
        "outputId": "00fae7b7-8119-44f8-9216-f8ece3417ff5"
      },
      "source": [
        "help(str.split)"
      ],
      "execution_count": null,
      "outputs": [
        {
          "output_type": "stream",
          "text": [
            "Help on method_descriptor:\n",
            "\n",
            "split(self, /, sep=None, maxsplit=-1)\n",
            "    Return a list of the words in the string, using sep as the delimiter string.\n",
            "    \n",
            "    sep\n",
            "      The delimiter according which to split the string.\n",
            "      None (the default value) means split according to any whitespace,\n",
            "      and discard empty strings from the result.\n",
            "    maxsplit\n",
            "      Maximum number of splits to do.\n",
            "      -1 (the default value) means no limit.\n",
            "\n"
          ],
          "name": "stdout"
        }
      ]
    },
    {
      "cell_type": "code",
      "metadata": {
        "id": "EcZEuAAs6h6M",
        "outputId": "71f33e19-1671-4d9a-abb9-57e48915f7e1"
      },
      "source": [
        "for i in \"1111\":\n",
        "    print(i)"
      ],
      "execution_count": null,
      "outputs": [
        {
          "output_type": "stream",
          "text": [
            "1\n",
            "1\n",
            "1\n",
            "1\n"
          ],
          "name": "stdout"
        }
      ]
    },
    {
      "cell_type": "code",
      "metadata": {
        "id": "1S9yV89o6h6M",
        "outputId": "b2c96207-d54b-434a-9c00-cfe8373a3b30"
      },
      "source": [
        "for i in range(1001,3000):\n",
        "    is_not_odd = True\n",
        "    for j in str(i):\n",
        "        n = int(j)\n",
        "        if n % 2 == 0: \n",
        "            is_not_odd = False\n",
        "    if is_not_odd:\n",
        "        print(i)"
      ],
      "execution_count": null,
      "outputs": [
        {
          "output_type": "stream",
          "text": [
            "1111\n",
            "1113\n",
            "1115\n",
            "1117\n",
            "1119\n",
            "1131\n",
            "1133\n",
            "1135\n",
            "1137\n",
            "1139\n",
            "1151\n",
            "1153\n",
            "1155\n",
            "1157\n",
            "1159\n",
            "1171\n",
            "1173\n",
            "1175\n",
            "1177\n",
            "1179\n",
            "1191\n",
            "1193\n",
            "1195\n",
            "1197\n",
            "1199\n",
            "1311\n",
            "1313\n",
            "1315\n",
            "1317\n",
            "1319\n",
            "1331\n",
            "1333\n",
            "1335\n",
            "1337\n",
            "1339\n",
            "1351\n",
            "1353\n",
            "1355\n",
            "1357\n",
            "1359\n",
            "1371\n",
            "1373\n",
            "1375\n",
            "1377\n",
            "1379\n",
            "1391\n",
            "1393\n",
            "1395\n",
            "1397\n",
            "1399\n",
            "1511\n",
            "1513\n",
            "1515\n",
            "1517\n",
            "1519\n",
            "1531\n",
            "1533\n",
            "1535\n",
            "1537\n",
            "1539\n",
            "1551\n",
            "1553\n",
            "1555\n",
            "1557\n",
            "1559\n",
            "1571\n",
            "1573\n",
            "1575\n",
            "1577\n",
            "1579\n",
            "1591\n",
            "1593\n",
            "1595\n",
            "1597\n",
            "1599\n",
            "1711\n",
            "1713\n",
            "1715\n",
            "1717\n",
            "1719\n",
            "1731\n",
            "1733\n",
            "1735\n",
            "1737\n",
            "1739\n",
            "1751\n",
            "1753\n",
            "1755\n",
            "1757\n",
            "1759\n",
            "1771\n",
            "1773\n",
            "1775\n",
            "1777\n",
            "1779\n",
            "1791\n",
            "1793\n",
            "1795\n",
            "1797\n",
            "1799\n",
            "1911\n",
            "1913\n",
            "1915\n",
            "1917\n",
            "1919\n",
            "1931\n",
            "1933\n",
            "1935\n",
            "1937\n",
            "1939\n",
            "1951\n",
            "1953\n",
            "1955\n",
            "1957\n",
            "1959\n",
            "1971\n",
            "1973\n",
            "1975\n",
            "1977\n",
            "1979\n",
            "1991\n",
            "1993\n",
            "1995\n",
            "1997\n",
            "1999\n"
          ],
          "name": "stdout"
        }
      ]
    },
    {
      "cell_type": "code",
      "metadata": {
        "id": "xYg-jrOH6h6M",
        "outputId": "ac573d0a-8b97-47e0-93d4-c703e8a9c7a8"
      },
      "source": [
        "for i in range(1001,3000):\n",
        "    for j in str(i):\n",
        "        n = int(j)\n",
        "        if n % 2 == 0: \n",
        "            break\n",
        "    else:\n",
        "        print(i)"
      ],
      "execution_count": null,
      "outputs": [
        {
          "output_type": "stream",
          "text": [
            "1111\n",
            "1113\n",
            "1115\n",
            "1117\n",
            "1119\n",
            "1131\n",
            "1133\n",
            "1135\n",
            "1137\n",
            "1139\n",
            "1151\n",
            "1153\n",
            "1155\n",
            "1157\n",
            "1159\n",
            "1171\n",
            "1173\n",
            "1175\n",
            "1177\n",
            "1179\n",
            "1191\n",
            "1193\n",
            "1195\n",
            "1197\n",
            "1199\n",
            "1311\n",
            "1313\n",
            "1315\n",
            "1317\n",
            "1319\n",
            "1331\n",
            "1333\n",
            "1335\n",
            "1337\n",
            "1339\n",
            "1351\n",
            "1353\n",
            "1355\n",
            "1357\n",
            "1359\n",
            "1371\n",
            "1373\n",
            "1375\n",
            "1377\n",
            "1379\n",
            "1391\n",
            "1393\n",
            "1395\n",
            "1397\n",
            "1399\n",
            "1511\n",
            "1513\n",
            "1515\n",
            "1517\n",
            "1519\n",
            "1531\n",
            "1533\n",
            "1535\n",
            "1537\n",
            "1539\n",
            "1551\n",
            "1553\n",
            "1555\n",
            "1557\n",
            "1559\n",
            "1571\n",
            "1573\n",
            "1575\n",
            "1577\n",
            "1579\n",
            "1591\n",
            "1593\n",
            "1595\n",
            "1597\n",
            "1599\n",
            "1711\n",
            "1713\n",
            "1715\n",
            "1717\n",
            "1719\n",
            "1731\n",
            "1733\n",
            "1735\n",
            "1737\n",
            "1739\n",
            "1751\n",
            "1753\n",
            "1755\n",
            "1757\n",
            "1759\n",
            "1771\n",
            "1773\n",
            "1775\n",
            "1777\n",
            "1779\n",
            "1791\n",
            "1793\n",
            "1795\n",
            "1797\n",
            "1799\n",
            "1911\n",
            "1913\n",
            "1915\n",
            "1917\n",
            "1919\n",
            "1931\n",
            "1933\n",
            "1935\n",
            "1937\n",
            "1939\n",
            "1951\n",
            "1953\n",
            "1955\n",
            "1957\n",
            "1959\n",
            "1971\n",
            "1973\n",
            "1975\n",
            "1977\n",
            "1979\n",
            "1991\n",
            "1993\n",
            "1995\n",
            "1997\n",
            "1999\n"
          ],
          "name": "stdout"
        }
      ]
    },
    {
      "cell_type": "code",
      "metadata": {
        "id": "vnlMUNXw6h6N",
        "outputId": "a94e529c-d511-4d40-80db-8483bb29deac"
      },
      "source": [
        "x = {'q1': 'https://hello.com', 'q2': 'https://blo.com'}\n",
        "\n",
        "if 'q1' in x:\n",
        "    print(x['q1'])"
      ],
      "execution_count": null,
      "outputs": [
        {
          "output_type": "stream",
          "text": [
            "https://hello.com\n"
          ],
          "name": "stdout"
        }
      ]
    },
    {
      "cell_type": "code",
      "metadata": {
        "id": "73O2v-yN6h6N"
      },
      "source": [
        ""
      ],
      "execution_count": null,
      "outputs": []
    }
  ]
}