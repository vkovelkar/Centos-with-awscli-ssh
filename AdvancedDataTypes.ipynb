{
  "nbformat": 4,
  "nbformat_minor": 0,
  "metadata": {
    "kernelspec": {
      "display_name": "Python 3",
      "language": "python",
      "name": "python3"
    },
    "language_info": {
      "codemirror_mode": {
        "name": "ipython",
        "version": 3
      },
      "file_extension": ".py",
      "mimetype": "text/x-python",
      "name": "python",
      "nbconvert_exporter": "python",
      "pygments_lexer": "ipython3",
      "version": "3.9.5"
    },
    "colab": {
      "name": "AdvancedDataTypes.ipynb",
      "provenance": [],
      "include_colab_link": true
    }
  },
  "cells": [
    {
      "cell_type": "markdown",
      "metadata": {
        "id": "view-in-github",
        "colab_type": "text"
      },
      "source": [
        "<a href=\"https://colab.research.google.com/github/vkovelkar/Centos-with-awscli-ssh/blob/main/AdvancedDataTypes.ipynb\" target=\"_parent\"><img src=\"https://colab.research.google.com/assets/colab-badge.svg\" alt=\"Open In Colab\"/></a>"
      ]
    },
    {
      "cell_type": "code",
      "metadata": {
        "colab": {
          "base_uri": "https://localhost:8080/"
        },
        "id": "05g1cr-w5j7j",
        "outputId": "c22f2d1a-d351-43a0-a6fe-553329ac98b0"
      },
      "source": [
        "'''\n",
        "primitive or basic data types: int, str, float, complex\n",
        "advanced data types: list, tuple, sets, dictionary\n",
        "    \n",
        "Mutable and Immutable data types:\n",
        "    Immutable: address will change whenever the values get updated - int, str, float, complex, tuple\n",
        "    Mutable: address cannot change - list, sets, dictionary\n",
        "'''\n",
        "\n",
        "x = 10\n",
        "print(id(x))\n",
        "x = 20\n",
        "print(id(x))\n",
        "\n",
        "y = \"hello world\"\n",
        "print(\"y=\",id(y))\n",
        "y = \"hello\"\n",
        "print(\"y=\",id(y))\n"
      ],
      "execution_count": 1,
      "outputs": [
        {
          "output_type": "stream",
          "text": [
            "94626531490592\n",
            "94626531490912\n",
            "y= 140577742962480\n",
            "y= 140577748888688\n"
          ],
          "name": "stdout"
        }
      ]
    },
    {
      "cell_type": "code",
      "metadata": {
        "colab": {
          "base_uri": "https://localhost:8080/"
        },
        "id": "GAGFbAbu5j7r",
        "outputId": "16c2d652-b3d6-4c8f-a704-5a5557ad0351"
      },
      "source": [
        "# Creating a list and printing it\n",
        "\n",
        "x = [1, 2.4, 'hello world']\n",
        "print('value of x is', x, type(x))"
      ],
      "execution_count": 2,
      "outputs": [
        {
          "output_type": "stream",
          "text": [
            "value of x is [1, 2.4, 'hello world'] <class 'list'>\n"
          ],
          "name": "stdout"
        }
      ]
    },
    {
      "cell_type": "code",
      "metadata": {
        "colab": {
          "base_uri": "https://localhost:8080/"
        },
        "id": "iwknVdFB5j7s",
        "outputId": "96a12411-1321-4b78-f873-b470016ec0b6"
      },
      "source": [
        "# Accessing elements in a list\n",
        "\n",
        "x = [1, 2.4, 'hello world']\n",
        "print(x[0])\n",
        "print(x[2])\n",
        "print(x[-1])\n",
        "print(x[-3])"
      ],
      "execution_count": 3,
      "outputs": [
        {
          "output_type": "stream",
          "text": [
            "1\n",
            "hello world\n",
            "hello world\n",
            "1\n"
          ],
          "name": "stdout"
        }
      ]
    },
    {
      "cell_type": "code",
      "metadata": {
        "colab": {
          "base_uri": "https://localhost:8080/"
        },
        "id": "T4PMz90r5j7t",
        "outputId": "81c93eef-6b18-49e2-edd0-14a34c8c31e1"
      },
      "source": [
        "# Modifying elements in a list\n",
        "\n",
        "x = [1, 2.4, 'hello world']\n",
        "print(x)\n",
        "print('id of x', id(x))\n",
        "x[0] = 'string value'\n",
        "x[2] = 'world'\n",
        "print(x)\n",
        "print('id of x', id(x))"
      ],
      "execution_count": 4,
      "outputs": [
        {
          "output_type": "stream",
          "text": [
            "[1, 2.4, 'hello world']\n",
            "id of x 140577681930032\n",
            "['string value', 2.4, 'world']\n",
            "id of x 140577681930032\n"
          ],
          "name": "stdout"
        }
      ]
    },
    {
      "cell_type": "code",
      "metadata": {
        "colab": {
          "base_uri": "https://localhost:8080/"
        },
        "id": "3Ju0_1mW5j7u",
        "outputId": "fc81e3fd-95cf-4944-ef22-cdb900fb1f2c"
      },
      "source": [
        "# creating a tuple and printing it\n",
        "# tuple is a read only list\n",
        "\n",
        "x = (23, 5, 'hello how are you')\n",
        "print('value of x is', x, type(x))"
      ],
      "execution_count": 5,
      "outputs": [
        {
          "output_type": "stream",
          "text": [
            "value of x is (23, 5, 'hello how are you') <class 'tuple'>\n"
          ],
          "name": "stdout"
        }
      ]
    },
    {
      "cell_type": "code",
      "metadata": {
        "colab": {
          "base_uri": "https://localhost:8080/"
        },
        "id": "gPcRL5sB5j7v",
        "outputId": "da8ba9de-e504-47f2-d0c6-05c67265f9ea"
      },
      "source": [
        "# Accessing elements from a tuple\n",
        "\n",
        "x = (23, 5, 'hello how are you')\n",
        "\n",
        "print(x[0])\n",
        "print(x[2])\n",
        "print(x[-1])"
      ],
      "execution_count": 6,
      "outputs": [
        {
          "output_type": "stream",
          "text": [
            "23\n",
            "hello how are you\n",
            "hello how are you\n"
          ],
          "name": "stdout"
        }
      ]
    },
    {
      "cell_type": "code",
      "metadata": {
        "colab": {
          "base_uri": "https://localhost:8080/",
          "height": 265
        },
        "id": "vtes2J7-5j7w",
        "outputId": "a1ee4b3e-a287-45db-e3ff-2915a1c0c2c9"
      },
      "source": [
        "# Modifying elements in a tuple\n",
        "\n",
        "x = (1, 2.4, 'hello world')\n",
        "print(x)\n",
        "print('id of x', id(x))\n",
        "x[0] = 'string value'\n",
        "print(x)\n",
        "print('id of x', id(x))\n"
      ],
      "execution_count": 7,
      "outputs": [
        {
          "output_type": "stream",
          "text": [
            "(1, 2.4, 'hello world')\n",
            "id of x 140577681903696\n"
          ],
          "name": "stdout"
        },
        {
          "output_type": "error",
          "ename": "TypeError",
          "evalue": "ignored",
          "traceback": [
            "\u001b[0;31m---------------------------------------------------------------------------\u001b[0m",
            "\u001b[0;31mTypeError\u001b[0m                                 Traceback (most recent call last)",
            "\u001b[0;32m<ipython-input-7-906e451782ff>\u001b[0m in \u001b[0;36m<module>\u001b[0;34m()\u001b[0m\n\u001b[1;32m      4\u001b[0m \u001b[0mprint\u001b[0m\u001b[0;34m(\u001b[0m\u001b[0mx\u001b[0m\u001b[0;34m)\u001b[0m\u001b[0;34m\u001b[0m\u001b[0;34m\u001b[0m\u001b[0m\n\u001b[1;32m      5\u001b[0m \u001b[0mprint\u001b[0m\u001b[0;34m(\u001b[0m\u001b[0;34m'id of x'\u001b[0m\u001b[0;34m,\u001b[0m \u001b[0mid\u001b[0m\u001b[0;34m(\u001b[0m\u001b[0mx\u001b[0m\u001b[0;34m)\u001b[0m\u001b[0;34m)\u001b[0m\u001b[0;34m\u001b[0m\u001b[0;34m\u001b[0m\u001b[0m\n\u001b[0;32m----> 6\u001b[0;31m \u001b[0mx\u001b[0m\u001b[0;34m[\u001b[0m\u001b[0;36m0\u001b[0m\u001b[0;34m]\u001b[0m \u001b[0;34m=\u001b[0m \u001b[0;34m'string value'\u001b[0m\u001b[0;34m\u001b[0m\u001b[0;34m\u001b[0m\u001b[0m\n\u001b[0m\u001b[1;32m      7\u001b[0m \u001b[0mprint\u001b[0m\u001b[0;34m(\u001b[0m\u001b[0mx\u001b[0m\u001b[0;34m)\u001b[0m\u001b[0;34m\u001b[0m\u001b[0;34m\u001b[0m\u001b[0m\n\u001b[1;32m      8\u001b[0m \u001b[0mprint\u001b[0m\u001b[0;34m(\u001b[0m\u001b[0;34m'id of x'\u001b[0m\u001b[0;34m,\u001b[0m \u001b[0mid\u001b[0m\u001b[0;34m(\u001b[0m\u001b[0mx\u001b[0m\u001b[0;34m)\u001b[0m\u001b[0;34m)\u001b[0m\u001b[0;34m\u001b[0m\u001b[0;34m\u001b[0m\u001b[0m\n",
            "\u001b[0;31mTypeError\u001b[0m: 'tuple' object does not support item assignment"
          ]
        }
      ]
    },
    {
      "cell_type": "code",
      "metadata": {
        "id": "mt0Ruesk5j7x"
      },
      "source": [
        "# creating a dictionary and printing it\n",
        "\n",
        "d = {'name': 'edureka', 'yearFounded': 2011}\n",
        "d = {'names': ('krishna', 'ravi'),'name': 'edureka'}\n",
        "#print(d['names'])\n",
        "#print('value of x is', d, type(d))\n",
        "print(d['name'])"
      ],
      "execution_count": null,
      "outputs": []
    },
    {
      "cell_type": "code",
      "metadata": {
        "id": "Z-l16EyS5j7y"
      },
      "source": [
        "y = \"krishna\"\n",
        "print(y[2])\n",
        "y[2]= 'name change'\n",
        "print(y)\n",
        "x = [1,2,\"krishna\"]\n",
        "x[0] = 100\n",
        "x[1] =224242\n",
        "x[2] =\"afasf\"\n",
        "print(x)"
      ],
      "execution_count": null,
      "outputs": []
    },
    {
      "cell_type": "code",
      "metadata": {
        "id": "UpjAcd1H5j7z"
      },
      "source": [
        "# accessing elements from a dictionary\n",
        "# elements in dictionary are accessed using key \n",
        "\n",
        "print(d['name'])\n",
        "print(d['yearFounded'])"
      ],
      "execution_count": null,
      "outputs": []
    },
    {
      "cell_type": "code",
      "metadata": {
        "id": "7Fky7ABT5j70"
      },
      "source": [
        "# Modifying elements in a dictionary\n",
        "\n",
        "d = {'name': 'edureka', 'yearFounded': 2011}\n",
        "print('value of dictionary d', d)\n",
        "print('id of dictionary d', id(d))\n",
        "d['name'] = 'edureka training'\n",
        "print('value of dictionary d', d)\n",
        "print('id of dictionary d', id(d))"
      ],
      "execution_count": null,
      "outputs": []
    },
    {
      "cell_type": "code",
      "metadata": {
        "id": "5gjvy3VM5j70"
      },
      "source": [
        "# creating a set and printing it\n",
        "# We can add elements and remove from set but cannot update once it is created\n",
        "\n",
        "s = {1, 2, 3, 4, 5, 1, 2}\n",
        "print('value of x is', s, type(s))"
      ],
      "execution_count": null,
      "outputs": []
    },
    {
      "cell_type": "code",
      "metadata": {
        "id": "j0J5eq8U5j71"
      },
      "source": [
        "# Accessing elements from a set\n",
        "# we do not have any indexing to accessing elements from set\n",
        "# but the key purpose of set is to identify unique elements and other related operations\n",
        "\n",
        "s = {1, 2, 3, 4, 5, 1, 2}\n",
        "print('set value is', s)\n",
        "print(s.pop())\n",
        "s.add('krishna')\n",
        "print('set value is', s)\n",
        "\n",
        "x = [10, 20, 10, 30, 40, 20, 30]\n",
        "print(list(set(x)))\n",
        "\n",
        "help(set.pop)"
      ],
      "execution_count": null,
      "outputs": []
    },
    {
      "cell_type": "code",
      "metadata": {
        "id": "O-E12IKQ5j71"
      },
      "source": [
        ""
      ],
      "execution_count": null,
      "outputs": []
    }
  ]
}