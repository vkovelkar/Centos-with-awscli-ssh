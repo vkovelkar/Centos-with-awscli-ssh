{
  "nbformat": 4,
  "nbformat_minor": 0,
  "metadata": {
    "kernelspec": {
      "display_name": "Python 3",
      "language": "python",
      "name": "python3"
    },
    "language_info": {
      "codemirror_mode": {
        "name": "ipython",
        "version": 3
      },
      "file_extension": ".py",
      "mimetype": "text/x-python",
      "name": "python",
      "nbconvert_exporter": "python",
      "pygments_lexer": "ipython3",
      "version": "3.7.4"
    },
    "colab": {
      "name": "Conditional Statements.ipynb",
      "provenance": [],
      "include_colab_link": true
    }
  },
  "cells": [
    {
      "cell_type": "markdown",
      "metadata": {
        "id": "view-in-github",
        "colab_type": "text"
      },
      "source": [
        "<a href=\"https://colab.research.google.com/github/vkovelkar/Centos-with-awscli-ssh/blob/main/Conditional_Statements.ipynb\" target=\"_parent\"><img src=\"https://colab.research.google.com/assets/colab-badge.svg\" alt=\"Open In Colab\"/></a>"
      ]
    },
    {
      "cell_type": "markdown",
      "metadata": {
        "id": "AjN_K5zi4f1C"
      },
      "source": [
        "## Conditional Statements (if, if-else, if-elif, if-elif-else, nested if)"
      ]
    },
    {
      "cell_type": "code",
      "metadata": {
        "id": "Zv95179F4f1H",
        "outputId": "0f170ec0-6888-4687-e146-65168ff24b8e"
      },
      "source": [
        "# Example 1 :\n",
        "\n",
        "x=5\n",
        "if(x>=5):\n",
        "    x\n",
        "    print('Welcome to Python Programming')\n",
        "    x=x+1\n",
        "print('The value of x is:',x)"
      ],
      "execution_count": null,
      "outputs": [
        {
          "output_type": "stream",
          "text": [
            "Welcome to Python Programming\n",
            "The value of x is: 6\n"
          ],
          "name": "stdout"
        }
      ]
    },
    {
      "cell_type": "code",
      "metadata": {
        "id": "iOs8BZF-4f1J",
        "outputId": "723faa9e-f432-4999-c050-73b261baf6de"
      },
      "source": [
        "# Example 2:\n",
        "\n",
        "var1=10\n",
        "var2=15\n",
        "if(var1>=var2):\n",
        "    if((var1-var2)%2==0):\n",
        "        print('Welcome to Edureka')\n",
        "    else:\n",
        "        print('Hello Edureka')\n",
        "else:\n",
        "    if((var2-var1)%2==0):\n",
        "        print('Welcome to Python')\n",
        "    else:\n",
        "        print('Hello Python')\n",
        "\n",
        "        "
      ],
      "execution_count": null,
      "outputs": [
        {
          "output_type": "stream",
          "text": [
            "Hello Python\n"
          ],
          "name": "stdout"
        }
      ]
    },
    {
      "cell_type": "code",
      "metadata": {
        "id": "WSgX1qCf4f1K",
        "outputId": "61979afd-8d88-48c6-c87d-ed7e5be56f81"
      },
      "source": [
        "# Example 3:\n",
        "a=10\n",
        "b=15.0\n",
        "c=a+b\n",
        "if(type(c) is int):\n",
        "    print('It is an integer')\n",
        "elif(type(c) is float):        #Line1\n",
        "    print('It is a float')\n",
        "elif(type(c) is float):        #Line2\n",
        "    print('Yes, it is a float')\n",
        "else:\n",
        "    print('The datatype of c is:', type(c))"
      ],
      "execution_count": null,
      "outputs": [
        {
          "output_type": "stream",
          "text": [
            "It is a float\n"
          ],
          "name": "stdout"
        }
      ]
    },
    {
      "cell_type": "code",
      "metadata": {
        "id": "RHi461sd4f1L"
      },
      "source": [
        "##Please note that, here in above both the condition mentioned in Line1 and Line2 are valid. But, once one condition is \n",
        "##satisfied,it won't check any further condition and it comes out of the flow.\n",
        "## And also remember that else is not a mandatory block to be written."
      ],
      "execution_count": null,
      "outputs": []
    },
    {
      "cell_type": "markdown",
      "metadata": {
        "id": "Ii-i2Lbd4f1L"
      },
      "source": [
        "## Iteration Control Structure/Loops ( while, for, for-else, usage of continue, break, pass statements"
      ]
    },
    {
      "cell_type": "code",
      "metadata": {
        "id": "93z1Xsmb4f1M",
        "outputId": "32e15086-088c-4776-a11c-ef741e46cd11"
      },
      "source": [
        "# Example 4\n",
        "x='Hello'\n",
        "y=5\n",
        "while type(x) is str:\n",
        "    print('hi')\n",
        "    y+=1\n",
        "    if(y>9):\n",
        "        x=y\n",
        "print('******End******')\n"
      ],
      "execution_count": null,
      "outputs": [
        {
          "output_type": "stream",
          "text": [
            "hi\n",
            "hi\n",
            "hi\n",
            "hi\n",
            "hi\n",
            "******End******\n"
          ],
          "name": "stdout"
        }
      ]
    },
    {
      "cell_type": "code",
      "metadata": {
        "id": "657JCi4p4f1N",
        "outputId": "d9414fc5-4f24-4e12-da38-2caecb4bbe0f"
      },
      "source": [
        "# Example 5\n",
        "\n",
        "for i in range(1,5):\n",
        "    print(i)\n",
        "    for j in range(i,i+2):\n",
        "        if((i+j)%2==0):\n",
        "            print('Hello')\n",
        "        else:\n",
        "            continue\n"
      ],
      "execution_count": null,
      "outputs": [
        {
          "output_type": "stream",
          "text": [
            "1\n",
            "Hello\n",
            "2\n",
            "Hello\n",
            "3\n",
            "Hello\n",
            "4\n",
            "Hello\n"
          ],
          "name": "stdout"
        }
      ]
    },
    {
      "cell_type": "code",
      "metadata": {
        "id": "KB67Qrww4f1O",
        "outputId": "11742494-1bcb-4ed3-eb96-dbb6357ff576"
      },
      "source": [
        "# Example 6\n",
        "\n",
        "for i in range (5,1,-1):\n",
        "    j=i\n",
        "    while(j==i):\n",
        "        print('hi', i*j)\n",
        "        i=i+1\n",
        "    if(i+j)>10:\n",
        "        continue\n",
        "    print(i**2)\n",
        "else:\n",
        "    print('For loop execution is successful')\n",
        "        "
      ],
      "execution_count": null,
      "outputs": [
        {
          "output_type": "stream",
          "text": [
            "hi 25\n",
            "hi 16\n",
            "25\n",
            "hi 9\n",
            "16\n",
            "hi 4\n",
            "9\n",
            "For loop execution is successful\n"
          ],
          "name": "stdout"
        }
      ]
    },
    {
      "cell_type": "code",
      "metadata": {
        "id": "yKP96z-g4f1O",
        "outputId": "fc3fb6ae-6d2c-404d-daa7-fe274e8fbbc2"
      },
      "source": [
        "# Example 7\n",
        "\n",
        "for var1 in range(1,5):\n",
        "    for var2 in range(var1+1,5):\n",
        "        if (var1+var2)%2==0:\n",
        "            print('hi')\n",
        "            # Break the inner loop\n",
        "            break\n",
        "    else:\n",
        "        # Continue the outer loop if the inner loop wasn't broken\n",
        "        continue\n",
        "    print('hello')\n",
        "    # Inner loop was broken, now break the outer loop as well.\n",
        "    break"
      ],
      "execution_count": null,
      "outputs": [
        {
          "output_type": "stream",
          "text": [
            "hi\n",
            "hello\n"
          ],
          "name": "stdout"
        }
      ]
    }
  ]
}